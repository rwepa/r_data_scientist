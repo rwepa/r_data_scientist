{
 "cells": [
  {
   "cell_type": "markdown",
   "id": "de7a7f7c-4bea-4044-8470-6d1ee0ca3dcd",
   "metadata": {},
   "source": [
    "# 第3章 Python各種物件資料的運算與處理\n",
    "\n",
    "File     : python_training_2025.01.07_python_introduction.ipynb\n",
    "\n",
    "Author   : Ming-Chang Lee\n",
    "\n",
    "Date     : 2025.01.07\n",
    "\n",
    "YouTube  : https://www.youtube.com/@alan9956\n",
    "\n",
    "RWEPA    : http://rwepa.blogspot.tw/\n",
    "\n",
    "GitHub   : https://github.com/rwepa\n",
    "\n",
    "Email    : alan9956@gmail.com"
   ]
  },
  {
   "cell_type": "markdown",
   "id": "12da361a-2cd1-46c4-a840-90c308280405",
   "metadata": {},
   "source": [
    "# 大綱\n",
    "\n",
    "## 3.1 Python與Anaconda簡介\n",
    "\n",
    "## 3.2 資料型別與運算子\n",
    "\n",
    "## 3.3 四大基本Python物件\n",
    "\n",
    "## 3.4 使用NumPy模組與reshape應用\n",
    "\n",
    "## 3.5 日期時間資料"
   ]
  },
  {
   "cell_type": "markdown",
   "id": "fdf0dd26-2e18-4cc1-8c57-d5ffc9a14e35",
   "metadata": {},
   "source": [
    "# 3.1 Python與Anaconda簡介"
   ]
  },
  {
   "cell_type": "markdown",
   "id": "f0532aaa-04f0-49fa-a9d9-c907426b33d2",
   "metadata": {},
   "source": [
    "+ Python 簡介與安裝\n",
    "\n",
    "    + 官網 https://www.python.org/\n",
    "\n",
    "    + Python is a programming language that lets you work more quickly and integrate your systems more effectively.\n",
    "\n",
    "    + 吉多·范羅蘇姆(Guido van Rossum, 荷蘭程式設計師) 1989年的聖誕節期間研發 Python 語言. https://en.wikipedia.org/wiki/Guido_van_Rossum\n",
    "\n",
    "+ Python 特性 (v3.13.1, 2025年1月5⽇)\n",
    "\n",
    "    + 跨平台\n",
    "\n",
    "    + 開放性\n",
    "\n",
    "    + 易讀性(使用冒號 : , 目的為區隔程式區塊, Python 不使用大括號 { ... })\n",
    "    \n",
    "    + 直譯語言\n",
    "    \n",
    "    + 豐富套件(模組) 例: Cython 編譯成執行檔(.exe)\n",
    "    \n",
    "    + 結合其他程式語言 C, C++, Python.NET, R\n",
    "    \n",
    "    + 物件導向程式語言"
   ]
  },
  {
   "cell_type": "markdown",
   "id": "69cc22fa-b952-4103-92ef-1a64ceb85753",
   "metadata": {},
   "source": [
    "<div class=\"alert alert-block alert-info\">\n",
    "<b>注意: </b>本課程使用 Anaconda 免費軟體編輯與執行 Python 程式, 該軟體已經包括 Pyhon 主程式, 因此不用額外下載 Pyhon 主程式.\n",
    "</div>"
   ]
  },
  {
   "cell_type": "markdown",
   "id": "34e2b395-96c5-49f3-a23d-33e500534594",
   "metadata": {},
   "source": [
    "+ Anaconda 簡介與安裝\n",
    "\n",
    "    + 官網 https://www.anaconda.com/\n",
    "\n",
    "+ Anaconda 特性\n",
    "\n",
    "    + Anaconda是一個開源的Python和R語言的發行版本，用於計算科學（資料科學、機器學習、巨量資料處理和預測分析），Anaconda致力於簡化軟體套件管理系統和部署。\n",
    "\n",
    "    + Anaconda透過 Conda 進行軟體套件管理，並擁有許多適用於 Windows、Linux和MacOS的資料科學軟體套件。\n",
    "\n",
    "+ Anaconda 下載並安裝\n",
    "\n",
    "    + https://www.anaconda.com/download/success\n",
    "\n",
    "+ PyPI (Python Package Index) - 約59萬 Python 專案\n",
    "    + https://pypi.org/"
   ]
  },
  {
   "cell_type": "markdown",
   "id": "bf93e4dc-2eec-483b-9021-746ccea9dc41",
   "metadata": {},
   "source": [
    "**實作練習**\n",
    "\n",
    "程式集 \\ Anaconda (anaconda3) \\ Jupyter Notebook \\ New \\ Python3\n",
    "Jupyter Notebook 輸入以下程式碼練習\n",
    "\n",
    "**程式1**\n",
    "\n",
    "import numpy\n",
    "\n",
    "numpy.random.rand(2, 3)\n",
    "\n",
    "**程式2**\n",
    "\n",
    "from numpy import *\n",
    "\n",
    "random.rand(2, 3)\n",
    "\n",
    "**程式3【推薦使用此方法】**\n",
    "\n",
    "import numpy as np\n",
    "\n",
    "np.random.rand(2, 3)\n",
    "\n",
    "**程式4【推薦使用此方法】**\n",
    "\n",
    "from numpy import random\n",
    "\n",
    "random.rand(2, 3)"
   ]
  },
  {
   "cell_type": "markdown",
   "id": "b35acaae-c328-4b79-ab51-bef13b4eb174",
   "metadata": {},
   "source": [
    "**Jupyter Notebook – 更改預設目錄**\n",
    "\n",
    "程式集 \\ Anaconda (anaconda3) \\ Anaconda Prompt \\ 輸入以下程式碼練習\n",
    "\n",
    "cd C:\\\n",
    "jupyter-notebook\n",
    "\n",
    "**Jupyter Notebook 快速鍵**\n",
    "\n",
    "+ 按 [Esc] cell旁邊為藍色\n",
    "+ 按 x：刪除當前選擇的cell\n",
    "+ 按 a：在當前選擇的上方新增一個cell\n",
    "+ 按 b：在當前選擇的下方新增一個cell\n",
    "+ 按 Shift + Enter：執行當前的cell並且選到下一個cell\n",
    "+ 按 Ctrl + Enter：執行當前cell\n",
    "+ 按 M：轉成markerdown模式，可以看到紅色框框內容從code變成markerdown"
   ]
  },
  {
   "cell_type": "markdown",
   "id": "65b9d4f5-5f6e-4f27-8735-a3c9cd2f03e7",
   "metadata": {},
   "source": [
    "**實作練習**\n",
    "\n",
    "開啟下列 ipynb 檔案\n",
    "\n",
    "Python 程式設計-李明昌 <免費電子書>\n",
    "\n",
    "http://rwepa.blogspot.com/2020/02/pythonprogramminglee.html\n",
    "\n",
    "https://github.com/rwepa/DataDemo/blob/master/Python_Programming_Lee_ipynb.zip"
   ]
  },
  {
   "cell_type": "markdown",
   "id": "c68fc323-88e6-4601-b332-865a6ff1c612",
   "metadata": {},
   "source": [
    "**安裝 Orange**\n",
    "\n",
    "+ 方法1 conda 安裝\n",
    "\n",
    "    conda install -c conda-forge orange3\n",
    "\n",
    "+ 方法2 下載 windows 安裝版或免安裝版\n",
    "\n",
    "    https://orangedatamining.com/download/\n",
    "\n",
    "+ Anaconda Prompt 開啟 Orange\n",
    "\n",
    "    python -m Orange.canvas\n",
    "\n",
    "+ Python Orange - 關聯規則教學\n",
    "\n",
    "    YouTube: https://youtu.be/rh5GxJamtNg\n",
    "\n",
    "    LINK: https://rwepa.blogspot.com/2022/07/python-orange-associate-tutorial.html\n",
    "\n",
    "    PDF: https://github.com/rwepa/orange3_associate/blob/main/2022.07.02-orange-associate.pdf"
   ]
  },
  {
   "cell_type": "markdown",
   "id": "9f054a9c-4f88-4dd1-86f7-222fb4b4398b",
   "metadata": {},
   "source": [
    "**Anaconda 模組管理**\n",
    "\n",
    "Anaconda Prompt 輸入以下程式碼練習\n",
    "\n",
    "+ 顯示已安裝模組\n",
    "\n",
    "    conda list\n",
    "\n",
    "+ 尋找各版本官網套件\n",
    "\n",
    "    conda search matplotlib\n",
    "\n",
    "+ 安裝模組\n",
    "\n",
    "    conda install 模組名稱\n",
    "\n",
    "+ 更新模組\n",
    "\n",
    "    conda update 模組名稱\n",
    "\n",
    "**實作練習**\n",
    "\n",
    "熟悉 Spyder 自動換列等設定, Spyder \\ Tools \\ Preferences \\ Editor \\ Display \\ Wrap lines\n",
    "\n",
    "# 恭喜您, 開啟人生 Python 學習之旅 ^_^"
   ]
  },
  {
   "cell_type": "code",
   "execution_count": 1,
   "id": "47997703-6c68-4c80-b00d-83f60b52daf5",
   "metadata": {},
   "outputs": [
    {
     "name": "stderr",
     "output_type": "stream",
     "text": [
      "<>:1: SyntaxWarning: invalid escape sequence '\\m'\n",
      "<>:1: SyntaxWarning: invalid escape sequence '\\m'\n",
      "C:\\Users\\rwepa\\AppData\\Local\\Temp\\ipykernel_91012\\402394083.py:1: SyntaxWarning: invalid escape sequence '\\m'\n",
      "  \"\"\"\n"
     ]
    },
    {
     "data": {
      "text/plain": [
       "'\\n# Python 執行-命令提示列\\n# 建立 C:\\\\mydata\\\\helloworld.py, 輸入以下程式碼\\nprint(\"Python大數據分析\")\\n\\n# cd C:\\\\mydata\\n# python --version\\n# dir\\n# python helloworld.py\\n'"
      ]
     },
     "execution_count": 1,
     "metadata": {},
     "output_type": "execute_result"
    }
   ],
   "source": [
    "\"\"\"\n",
    "# Python 執行-命令提示列\n",
    "# 建立 C:\\mydata\\helloworld.py, 輸入以下程式碼\n",
    "print(\"Python大數據分析\")\n",
    "\n",
    "# cd C:\\mydata\n",
    "# python --version\n",
    "# dir\n",
    "# python helloworld.py\n",
    "\"\"\""
   ]
  },
  {
   "cell_type": "markdown",
   "id": "0a96352c-7275-4eb6-9b89-2c1a3deb8df7",
   "metadata": {},
   "source": [
    "**Python變數**"
   ]
  },
  {
   "cell_type": "code",
   "execution_count": 2,
   "id": "3c388554-5923-48cd-8b41-b1967d23b5b0",
   "metadata": {},
   "outputs": [],
   "source": [
    "# 合法變數\n",
    "大數據 = 1 # 中文亦可, 建議不要使用"
   ]
  },
  {
   "cell_type": "code",
   "execution_count": 3,
   "id": "6bc3c2bb-fed0-4a66-82ef-8112e18161df",
   "metadata": {},
   "outputs": [
    {
     "name": "stdout",
     "output_type": "stream",
     "text": [
      "1\n"
     ]
    }
   ],
   "source": [
    "CustomerSaleReport = 1\n",
    "print(CustomerSaleReport)"
   ]
  },
  {
   "cell_type": "code",
   "execution_count": 4,
   "id": "5ed0fbbf-1751-47ae-b313-bbece8c227ca",
   "metadata": {},
   "outputs": [],
   "source": [
    "_CustomerSaleReport = 1 # 使用一個下底線,表示 Private variable, 同理練以下 print 函數."
   ]
  },
  {
   "cell_type": "code",
   "execution_count": 5,
   "id": "b7a83773-47f1-468a-9b8f-0755cc0d5313",
   "metadata": {},
   "outputs": [],
   "source": [
    "Customer_Sale_Report = 1"
   ]
  },
  {
   "cell_type": "code",
   "execution_count": 6,
   "id": "e9bb1bbe-faa3-4ba4-ba99-3ab9ad24a240",
   "metadata": {},
   "outputs": [],
   "source": [
    "customer_sale_report = 1"
   ]
  },
  {
   "cell_type": "markdown",
   "id": "9f7d8325-2288-4a49-9da3-5618ae16ba7d",
   "metadata": {},
   "source": [
    "**不合法變數**"
   ]
  },
  {
   "cell_type": "code",
   "execution_count": 7,
   "id": "2bb24587-cb88-4911-ac92-f6694724d4ea",
   "metadata": {},
   "outputs": [],
   "source": [
    "# SyntaxError: invalid syntax\n",
    "# $CustomerSaleReport = 1"
   ]
  },
  {
   "cell_type": "code",
   "execution_count": 8,
   "id": "f7961d0f-602f-4fae-b012-703a58b57063",
   "metadata": {},
   "outputs": [
    {
     "name": "stdout",
     "output_type": "stream",
     "text": [
      "SyntaxError-語法錯誤\n"
     ]
    }
   ],
   "source": [
    "try:\n",
    "    eval('$CustomerSaleReport = 1')\n",
    "except SyntaxError:\n",
    "    print(\"SyntaxError-語法錯誤\")"
   ]
  },
  {
   "cell_type": "code",
   "execution_count": 9,
   "id": "c11e5766-0266-4a34-8a19-fbcf61e5515d",
   "metadata": {},
   "outputs": [],
   "source": [
    "# SyntaxError: invalid decimal literal\n",
    "# 2020_sale = 100"
   ]
  },
  {
   "cell_type": "code",
   "execution_count": 10,
   "id": "f2ec26ee-d0a3-4884-992f-cfc36009723f",
   "metadata": {},
   "outputs": [],
   "source": [
    "# SyntaxError: invalid syntax\n",
    "# break = 123"
   ]
  },
  {
   "cell_type": "code",
   "execution_count": 11,
   "id": "678cd086-30b5-4ebe-afd8-425c913c1a4c",
   "metadata": {},
   "outputs": [
    {
     "data": {
      "text/plain": [
       "['ArithmeticError',\n",
       " 'AssertionError',\n",
       " 'AttributeError',\n",
       " 'BaseException',\n",
       " 'BaseExceptionGroup',\n",
       " 'BlockingIOError',\n",
       " 'BrokenPipeError',\n",
       " 'BufferError',\n",
       " 'BytesWarning',\n",
       " 'ChildProcessError',\n",
       " 'ConnectionAbortedError',\n",
       " 'ConnectionError',\n",
       " 'ConnectionRefusedError',\n",
       " 'ConnectionResetError',\n",
       " 'DeprecationWarning',\n",
       " 'EOFError',\n",
       " 'Ellipsis',\n",
       " 'EncodingWarning',\n",
       " 'EnvironmentError',\n",
       " 'Exception',\n",
       " 'ExceptionGroup',\n",
       " 'False',\n",
       " 'FileExistsError',\n",
       " 'FileNotFoundError',\n",
       " 'FloatingPointError',\n",
       " 'FutureWarning',\n",
       " 'GeneratorExit',\n",
       " 'IOError',\n",
       " 'ImportError',\n",
       " 'ImportWarning',\n",
       " 'IndentationError',\n",
       " 'IndexError',\n",
       " 'InterruptedError',\n",
       " 'IsADirectoryError',\n",
       " 'KeyError',\n",
       " 'KeyboardInterrupt',\n",
       " 'LookupError',\n",
       " 'MemoryError',\n",
       " 'ModuleNotFoundError',\n",
       " 'NameError',\n",
       " 'None',\n",
       " 'NotADirectoryError',\n",
       " 'NotImplemented',\n",
       " 'NotImplementedError',\n",
       " 'OSError',\n",
       " 'OverflowError',\n",
       " 'PendingDeprecationWarning',\n",
       " 'PermissionError',\n",
       " 'ProcessLookupError',\n",
       " 'RecursionError',\n",
       " 'ReferenceError',\n",
       " 'ResourceWarning',\n",
       " 'RuntimeError',\n",
       " 'RuntimeWarning',\n",
       " 'StopAsyncIteration',\n",
       " 'StopIteration',\n",
       " 'SyntaxError',\n",
       " 'SyntaxWarning',\n",
       " 'SystemError',\n",
       " 'SystemExit',\n",
       " 'TabError',\n",
       " 'TimeoutError',\n",
       " 'True',\n",
       " 'TypeError',\n",
       " 'UnboundLocalError',\n",
       " 'UnicodeDecodeError',\n",
       " 'UnicodeEncodeError',\n",
       " 'UnicodeError',\n",
       " 'UnicodeTranslateError',\n",
       " 'UnicodeWarning',\n",
       " 'UserWarning',\n",
       " 'ValueError',\n",
       " 'Warning',\n",
       " 'WindowsError',\n",
       " 'ZeroDivisionError',\n",
       " '__IPYTHON__',\n",
       " '__build_class__',\n",
       " '__debug__',\n",
       " '__doc__',\n",
       " '__import__',\n",
       " '__loader__',\n",
       " '__name__',\n",
       " '__package__',\n",
       " '__spec__',\n",
       " 'abs',\n",
       " 'aiter',\n",
       " 'all',\n",
       " 'anext',\n",
       " 'any',\n",
       " 'ascii',\n",
       " 'bin',\n",
       " 'bool',\n",
       " 'breakpoint',\n",
       " 'bytearray',\n",
       " 'bytes',\n",
       " 'callable',\n",
       " 'chr',\n",
       " 'classmethod',\n",
       " 'compile',\n",
       " 'complex',\n",
       " 'copyright',\n",
       " 'credits',\n",
       " 'delattr',\n",
       " 'dict',\n",
       " 'dir',\n",
       " 'display',\n",
       " 'divmod',\n",
       " 'enumerate',\n",
       " 'eval',\n",
       " 'exec',\n",
       " 'execfile',\n",
       " 'filter',\n",
       " 'float',\n",
       " 'format',\n",
       " 'frozenset',\n",
       " 'get_ipython',\n",
       " 'getattr',\n",
       " 'globals',\n",
       " 'hasattr',\n",
       " 'hash',\n",
       " 'help',\n",
       " 'hex',\n",
       " 'id',\n",
       " 'input',\n",
       " 'int',\n",
       " 'isinstance',\n",
       " 'issubclass',\n",
       " 'iter',\n",
       " 'len',\n",
       " 'license',\n",
       " 'list',\n",
       " 'locals',\n",
       " 'map',\n",
       " 'max',\n",
       " 'memoryview',\n",
       " 'min',\n",
       " 'next',\n",
       " 'object',\n",
       " 'oct',\n",
       " 'open',\n",
       " 'ord',\n",
       " 'pow',\n",
       " 'print',\n",
       " 'property',\n",
       " 'range',\n",
       " 'repr',\n",
       " 'reversed',\n",
       " 'round',\n",
       " 'runfile',\n",
       " 'set',\n",
       " 'setattr',\n",
       " 'slice',\n",
       " 'sorted',\n",
       " 'staticmethod',\n",
       " 'str',\n",
       " 'sum',\n",
       " 'super',\n",
       " 'tuple',\n",
       " 'type',\n",
       " 'vars',\n",
       " 'zip']"
      ]
     },
     "execution_count": 11,
     "metadata": {},
     "output_type": "execute_result"
    }
   ],
   "source": [
    "# 內建保留字\n",
    "dir(__builtins__)"
   ]
  },
  {
   "cell_type": "code",
   "execution_count": 12,
   "id": "f8d239c8-c916-4fd4-85a8-160ab86a4ee7",
   "metadata": {},
   "outputs": [
    {
     "data": {
      "text/plain": [
       "161"
      ]
     },
     "execution_count": 12,
     "metadata": {},
     "output_type": "execute_result"
    }
   ],
   "source": [
    "len(dir(__builtins__)) # 161"
   ]
  },
  {
   "cell_type": "code",
   "execution_count": 13,
   "id": "d85af69c-725c-409a-9fec-ed30d1822f42",
   "metadata": {},
   "outputs": [
    {
     "name": "stdout",
     "output_type": "stream",
     "text": [
      "台北 台中 高雄\n"
     ]
    },
    {
     "data": {
      "text/plain": [
       "str"
      ]
     },
     "execution_count": 13,
     "metadata": {},
     "output_type": "execute_result"
    }
   ],
   "source": [
    "# 指派多個變數\n",
    "x, y, z = \"台北\", \"台中\", \"高雄\"\n",
    "print(x, y, z)\n",
    "type(x) # str"
   ]
  },
  {
   "cell_type": "code",
   "execution_count": 14,
   "id": "a4fc8af5-c7f3-4028-9caf-e43d396cbe4d",
   "metadata": {},
   "outputs": [
    {
     "name": "stdout",
     "output_type": "stream",
     "text": [
      "台北\n",
      "台中\n",
      "高雄\n"
     ]
    },
    {
     "data": {
      "text/plain": [
       "str"
      ]
     },
     "execution_count": 14,
     "metadata": {},
     "output_type": "execute_result"
    }
   ],
   "source": [
    "address = [\"台北\", \"台中\", \"高雄\"]\n",
    "x, y, z = address\n",
    "print(x)\n",
    "print(y)\n",
    "print(z)\n",
    "type(x)"
   ]
  },
  {
   "cell_type": "code",
   "execution_count": 15,
   "id": "ffc1ede0-d4c5-472a-a37b-6ffbf03d5de2",
   "metadata": {},
   "outputs": [],
   "source": [
    "# Python Style Rules\n",
    "# https://google.github.io/styleguide/pyguide.html\n",
    "\n",
    "# Python 註解\n",
    "# 使用一個 #\t   用於1行註解\n",
    "# 使用二個 \"\"\"  用於超過1行註解或函數之說明文件\n",
    "\n",
    "# Python採用內縮4個空白鍵之語法"
   ]
  },
  {
   "cell_type": "markdown",
   "id": "21a23c1e-3b5c-4238-94b8-ed33ebffb3a4",
   "metadata": {},
   "source": [
    "# 3.2 資料型別與運算子"
   ]
  },
  {
   "cell_type": "markdown",
   "id": "7fcb4c51-d947-4c0a-9bc1-94ed57603855",
   "metadata": {},
   "source": [
    "**資料型別(資料型態)**\n",
    "\n",
    "  + https://docs.python.org/3/library/stdtypes.html\n",
    "\n",
    "**廣義 Data Types**\n",
    "\n",
    "+ Text Type:      str 字串\n",
    "+ Numeric Types:  int, float, complex 整數, 浮點數, 複數\n",
    "+ Boolean Type:\t  bool 布林 [True, False]\n",
    "+ Binary Types:\t  bytes, bytearray, memoryview\n",
    "+ Sequence Types: list, tuple, range\n",
    "+ Set Types:\t  set, frozenset\n",
    "+ Mapping Type:\t  dict\n",
    "\n",
    "參考: https://www.w3schools.com/python/"
   ]
  },
  {
   "cell_type": "code",
   "execution_count": 16,
   "id": "15eed761-ec0b-4a74-aa54-ca0ee0452cd3",
   "metadata": {},
   "outputs": [
    {
     "data": {
      "text/plain": [
       "int"
      ]
     },
     "execution_count": 16,
     "metadata": {},
     "output_type": "execute_result"
    }
   ],
   "source": [
    "# 資料型別-範例\n",
    "\n",
    "# 整數 int\n",
    "x1 = 1\n",
    "type(x1)"
   ]
  },
  {
   "cell_type": "code",
   "execution_count": 17,
   "id": "73a592ee-d07b-4783-8672-9bc2ffff96fc",
   "metadata": {},
   "outputs": [
    {
     "data": {
      "text/plain": [
       "float"
      ]
     },
     "execution_count": 17,
     "metadata": {},
     "output_type": "execute_result"
    }
   ],
   "source": [
    "# 浮點數 float\n",
    "x2 = 1.234\n",
    "type(x2)"
   ]
  },
  {
   "cell_type": "code",
   "execution_count": 18,
   "id": "f8db8138-3174-4f9b-bab1-36dd4a88a162",
   "metadata": {},
   "outputs": [
    {
     "data": {
      "text/plain": [
       "complex"
      ]
     },
     "execution_count": 18,
     "metadata": {},
     "output_type": "execute_result"
    }
   ],
   "source": [
    "# 複數  complex\n",
    "x3 = 1+2j\n",
    "type(x3)"
   ]
  },
  {
   "cell_type": "code",
   "execution_count": 19,
   "id": "22f81f6d-b731-4bff-8156-3e98801c37ec",
   "metadata": {},
   "outputs": [
    {
     "data": {
      "text/plain": [
       "bool"
      ]
     },
     "execution_count": 19,
     "metadata": {},
     "output_type": "execute_result"
    }
   ],
   "source": [
    "# 布林值 (Boolean)\n",
    "x4 = True\n",
    "type(x4)"
   ]
  },
  {
   "cell_type": "code",
   "execution_count": 20,
   "id": "8048f868-c7bf-4c61-a4fc-b345727bca8e",
   "metadata": {},
   "outputs": [
    {
     "data": {
      "text/plain": [
       "False"
      ]
     },
     "execution_count": 20,
     "metadata": {},
     "output_type": "execute_result"
    }
   ],
   "source": [
    "x4 > 10"
   ]
  },
  {
   "cell_type": "code",
   "execution_count": 21,
   "id": "35787998-fb38-4bfa-b238-c736564ae25c",
   "metadata": {},
   "outputs": [
    {
     "data": {
      "text/plain": [
       "False"
      ]
     },
     "execution_count": 21,
     "metadata": {},
     "output_type": "execute_result"
    }
   ],
   "source": [
    "# None值\n",
    "import numpy as np\n",
    "\n",
    "None == False"
   ]
  },
  {
   "cell_type": "code",
   "execution_count": 22,
   "id": "9509c52b-7215-4d22-b2cc-8f23c0968d39",
   "metadata": {},
   "outputs": [
    {
     "data": {
      "text/plain": [
       "False"
      ]
     },
     "execution_count": 22,
     "metadata": {},
     "output_type": "execute_result"
    }
   ],
   "source": [
    "None == 0"
   ]
  },
  {
   "cell_type": "code",
   "execution_count": 23,
   "id": "943ee961-d8f2-4331-835f-c345540672fe",
   "metadata": {},
   "outputs": [
    {
     "data": {
      "text/plain": [
       "False"
      ]
     },
     "execution_count": 23,
     "metadata": {},
     "output_type": "execute_result"
    }
   ],
   "source": [
    "None == np.nan"
   ]
  },
  {
   "cell_type": "code",
   "execution_count": 24,
   "id": "e9a29929-022d-4454-86fc-1a1060ec67b9",
   "metadata": {},
   "outputs": [
    {
     "data": {
      "text/plain": [
       "True"
      ]
     },
     "execution_count": 24,
     "metadata": {},
     "output_type": "execute_result"
    }
   ],
   "source": [
    "None == None"
   ]
  },
  {
   "cell_type": "code",
   "execution_count": 25,
   "id": "26074c3f-af42-48e2-a6a7-c11a4156e3ae",
   "metadata": {},
   "outputs": [
    {
     "data": {
      "text/plain": [
       "True"
      ]
     },
     "execution_count": 25,
     "metadata": {},
     "output_type": "execute_result"
    }
   ],
   "source": [
    "False == 0"
   ]
  },
  {
   "cell_type": "code",
   "execution_count": 26,
   "id": "9591247a-cc24-4230-bb86-814a7db1ba17",
   "metadata": {},
   "outputs": [
    {
     "data": {
      "text/plain": [
       "True"
      ]
     },
     "execution_count": 26,
     "metadata": {},
     "output_type": "execute_result"
    }
   ],
   "source": [
    "True == 1"
   ]
  },
  {
   "cell_type": "code",
   "execution_count": 27,
   "id": "6c1ab509-c2ed-42cf-89b6-00f2da8a3e29",
   "metadata": {},
   "outputs": [
    {
     "name": "stdout",
     "output_type": "stream",
     "text": [
      "96\n"
     ]
    }
   ],
   "source": [
    "# 整數亂數\n",
    "import random\n",
    "random.seed(168) # 設定亂數種子\n",
    "myrandom = random.randrange(1, 100) # 沒有包括100值\n",
    "print(myrandom)"
   ]
  },
  {
   "cell_type": "code",
   "execution_count": 28,
   "id": "b9a9d7aa-c3e8-4afc-aa1c-286a4e6bc945",
   "metadata": {},
   "outputs": [
    {
     "data": {
      "text/plain": [
       "8"
      ]
     },
     "execution_count": 28,
     "metadata": {},
     "output_type": "execute_result"
    }
   ],
   "source": [
    "# 運算子\n",
    "3 + 5"
   ]
  },
  {
   "cell_type": "code",
   "execution_count": 29,
   "id": "e3e64fb8-5f9c-4521-844d-73ca114cd3ca",
   "metadata": {},
   "outputs": [
    {
     "data": {
      "text/plain": [
       "23"
      ]
     },
     "execution_count": 29,
     "metadata": {},
     "output_type": "execute_result"
    }
   ],
   "source": [
    "3 + (5 * 4)"
   ]
  },
  {
   "cell_type": "code",
   "execution_count": 30,
   "id": "0914ab11-61cc-49a2-8fed-acb79bc2cb0d",
   "metadata": {},
   "outputs": [
    {
     "data": {
      "text/plain": [
       "9"
      ]
     },
     "execution_count": 30,
     "metadata": {},
     "output_type": "execute_result"
    }
   ],
   "source": [
    "3 ** 2"
   ]
  },
  {
   "cell_type": "code",
   "execution_count": 31,
   "id": "16e25bcd-9268-4f7c-9c9f-cc215ff15ab3",
   "metadata": {},
   "outputs": [
    {
     "data": {
      "text/plain": [
       "'HelloWorld'"
      ]
     },
     "execution_count": 31,
     "metadata": {},
     "output_type": "execute_result"
    }
   ],
   "source": [
    "\"Hello\" + \"World\"\n",
    "# 123 + \"RWPEA\"  # Error"
   ]
  },
  {
   "cell_type": "code",
   "execution_count": 32,
   "id": "5155a9cd-c87e-4dd7-9e01-ff11f181fb1b",
   "metadata": {},
   "outputs": [
    {
     "data": {
      "text/plain": [
       "2.234"
      ]
     },
     "execution_count": 32,
     "metadata": {},
     "output_type": "execute_result"
    }
   ],
   "source": [
    "1 + 1.234"
   ]
  },
  {
   "cell_type": "code",
   "execution_count": 33,
   "id": "b0b4b0b1-90c1-4d77-b774-1166b2a9f763",
   "metadata": {},
   "outputs": [
    {
     "data": {
      "text/plain": [
       "3.5"
      ]
     },
     "execution_count": 33,
     "metadata": {},
     "output_type": "execute_result"
    }
   ],
   "source": [
    "7 / 2"
   ]
  },
  {
   "cell_type": "code",
   "execution_count": 34,
   "id": "98a112ea-386a-4ef6-b140-e8d1c9fb5437",
   "metadata": {},
   "outputs": [
    {
     "data": {
      "text/plain": [
       "3"
      ]
     },
     "execution_count": 34,
     "metadata": {},
     "output_type": "execute_result"
    }
   ],
   "source": [
    "7 // 2         # 商數(quotient)"
   ]
  },
  {
   "cell_type": "code",
   "execution_count": 35,
   "id": "9d602526-d8b9-4bd5-9f2a-4d5a9f0cc09d",
   "metadata": {},
   "outputs": [
    {
     "data": {
      "text/plain": [
       "1"
      ]
     },
     "execution_count": 35,
     "metadata": {},
     "output_type": "execute_result"
    }
   ],
   "source": [
    "7 % 2          # 餘數(remainder)"
   ]
  },
  {
   "cell_type": "code",
   "execution_count": 36,
   "id": "56f4c1b6-811a-4a81-a3f0-69bf9c25e236",
   "metadata": {},
   "outputs": [
    {
     "data": {
      "text/plain": [
       "(3, 1)"
      ]
     },
     "execution_count": 36,
     "metadata": {},
     "output_type": "execute_result"
    }
   ],
   "source": [
    "divmod(7, 2)   # (商數, 餘數)"
   ]
  },
  {
   "cell_type": "code",
   "execution_count": 37,
   "id": "dd429c3f-be05-4b58-832a-483d1597753f",
   "metadata": {},
   "outputs": [
    {
     "data": {
      "text/plain": [
       "1024"
      ]
     },
     "execution_count": 37,
     "metadata": {},
     "output_type": "execute_result"
    }
   ],
   "source": [
    "2 ** 10        # 次方"
   ]
  },
  {
   "cell_type": "code",
   "execution_count": 38,
   "id": "1185bb84-8f48-47ea-a098-26de6a89c025",
   "metadata": {},
   "outputs": [
    {
     "data": {
      "text/plain": [
       "234.0"
      ]
     },
     "execution_count": 38,
     "metadata": {},
     "output_type": "execute_result"
    }
   ],
   "source": [
    "1.234e3 - 1000"
   ]
  },
  {
   "cell_type": "code",
   "execution_count": 39,
   "id": "ffcc181e-a00c-4987-80a4-d69010a83573",
   "metadata": {},
   "outputs": [
    {
     "data": {
      "text/plain": [
       "False"
      ]
     },
     "execution_count": 39,
     "metadata": {},
     "output_type": "execute_result"
    }
   ],
   "source": [
    "x5 = 1 == 2\n",
    "x5"
   ]
  },
  {
   "cell_type": "code",
   "execution_count": 40,
   "id": "503c6e69-9889-47d3-9994-a50163c8c31c",
   "metadata": {},
   "outputs": [
    {
     "data": {
      "text/plain": [
       "10"
      ]
     },
     "execution_count": 40,
     "metadata": {},
     "output_type": "execute_result"
    }
   ],
   "source": [
    "x5 + 10"
   ]
  },
  {
   "cell_type": "code",
   "execution_count": 41,
   "id": "13e8d75a-d1f2-4cd8-9e3e-b2c15d791142",
   "metadata": {},
   "outputs": [
    {
     "name": "stdout",
     "output_type": "stream",
     "text": [
      "32\n"
     ]
    }
   ],
   "source": [
    "# 位移運算子: << 向左位移\n",
    "# 位移運算子: >> 向右位移\n",
    "a = 4 << 3 # 0100 --> 0100000, 32 16 8 4 2 1\n",
    "print(a)"
   ]
  },
  {
   "cell_type": "code",
   "execution_count": 42,
   "id": "982d7f0c-8f9d-4f1a-b813-e75de807f7cb",
   "metadata": {},
   "outputs": [
    {
     "name": "stdout",
     "output_type": "stream",
     "text": [
      "144.0\n"
     ]
    }
   ],
   "source": [
    "b = a * 4.5\n",
    "print(b)"
   ]
  },
  {
   "cell_type": "code",
   "execution_count": 43,
   "id": "45be809c-cc3b-4292-9cb5-11627590619a",
   "metadata": {},
   "outputs": [
    {
     "name": "stdout",
     "output_type": "stream",
     "text": [
      "70.4\n"
     ]
    }
   ],
   "source": [
    "c = (a+b)/2.5\n",
    "print(c)"
   ]
  },
  {
   "cell_type": "code",
   "execution_count": 44,
   "id": "44b0c084-ba83-4b5d-bd20-2019d08ba86e",
   "metadata": {},
   "outputs": [
    {
     "name": "stdout",
     "output_type": "stream",
     "text": [
      "11\n"
     ]
    }
   ],
   "source": [
    "# 指派運算子\n",
    "x = 9\n",
    "x+=2\n",
    "print(x)"
   ]
  },
  {
   "cell_type": "markdown",
   "id": "02a227c9-fd39-42fe-b8fd-a14103e81e67",
   "metadata": {},
   "source": [
    "# 3.3 四大基本Python物件"
   ]
  },
  {
   "cell_type": "markdown",
   "id": "fbe9a9d2-b4c9-42a4-bec6-4a1298ddc6d9",
   "metadata": {},
   "source": [
    "1. Tuple 序列 (元組) - (value,...)     不可變 (Immutable)\n",
    "2. List 串列(清單)   - [value,...]     可變 (mutable)\n",
    "3. Set 集合          - {value,...}     可變 (mutable)\n",
    "4. Dict 字典         - {key:value,...} 可變 (mutable)"
   ]
  },
  {
   "cell_type": "markdown",
   "id": "d21cc743-e5c2-4ef6-959d-e29e9321a419",
   "metadata": {},
   "source": [
    "# 1. Tuple 序列 (元組)\n",
    "\n",
    "+ tuple 是 Python 的資料儲存容器之一, 最大的特點就是, 它是「不可變」的資料型態。\n",
    "+ 與list類似，最大的不同tuple是一種唯讀且不可變更的資料結構\n",
    "+ 不可取代tuple中的任意一個元素，因為它是唯讀不可變更的\n",
    "+ Tuple 是具有 ordered 特性\n",
    "+ Python 的索引(指標)從0開始"
   ]
  },
  {
   "cell_type": "code",
   "execution_count": 45,
   "id": "d8d672ef-e879-49f1-a002-0575311f52db",
   "metadata": {},
   "outputs": [],
   "source": [
    "# 建立序列\n",
    "x1 = 1\n",
    "x2 = 1, \n",
    "x3 = 1, 2, 3\n",
    "# 練習 type"
   ]
  },
  {
   "cell_type": "code",
   "execution_count": 46,
   "id": "2d115966-004f-4f58-96a8-abefd195ee03",
   "metadata": {},
   "outputs": [
    {
     "name": "stdout",
     "output_type": "stream",
     "text": [
      "(2, 3, 4, 5)\n"
     ]
    }
   ],
   "source": [
    "f = (2,3,4,5) # A tuple of integers\n",
    "print(f)"
   ]
  },
  {
   "cell_type": "code",
   "execution_count": 47,
   "id": "48f1ba1c-957f-40bb-8a97-dfa06d3c4511",
   "metadata": {},
   "outputs": [
    {
     "name": "stdout",
     "output_type": "stream",
     "text": [
      "()\n"
     ]
    }
   ],
   "source": [
    "g = () # An emptmy tuple\n",
    "print(g)"
   ]
  },
  {
   "cell_type": "code",
   "execution_count": 48,
   "id": "f64e804e-4f51-4dd7-ad53-b18c3d18b6bb",
   "metadata": {},
   "outputs": [
    {
     "name": "stdout",
     "output_type": "stream",
     "text": [
      "(2, [3, 4], (10, 11, 12))\n"
     ]
    }
   ],
   "source": [
    "h = (2, [3,4], (10,11,12)) \t# A tuple containing mixed objects\n",
    "print(h)"
   ]
  },
  {
   "cell_type": "code",
   "execution_count": 49,
   "id": "aa2888f6-9d80-4c22-b2ec-485e879e0b90",
   "metadata": {},
   "outputs": [
    {
     "data": {
      "text/plain": [
       "3"
      ]
     },
     "execution_count": 49,
     "metadata": {},
     "output_type": "execute_result"
    }
   ],
   "source": [
    "# Tuples操作\n",
    "x = f[1] # Element access. x = 3\n",
    "x"
   ]
  },
  {
   "cell_type": "code",
   "execution_count": 50,
   "id": "52293dfd-2bd2-4472-b045-a13c470ac115",
   "metadata": {},
   "outputs": [
    {
     "data": {
      "text/plain": [
       "(3, 4)"
      ]
     },
     "execution_count": 50,
     "metadata": {},
     "output_type": "execute_result"
    }
   ],
   "source": [
    "y = f[1:3] # Slices. y = (3,4)\n",
    "y"
   ]
  },
  {
   "cell_type": "code",
   "execution_count": 51,
   "id": "86c9bd8e-b2b8-45c3-ac5d-5ca264a30f58",
   "metadata": {},
   "outputs": [
    {
     "data": {
      "text/plain": [
       "4"
      ]
     },
     "execution_count": 51,
     "metadata": {},
     "output_type": "execute_result"
    }
   ],
   "source": [
    "z = h[1][1] \t# Nesting. z = 4\n",
    "z"
   ]
  },
  {
   "cell_type": "code",
   "execution_count": 52,
   "id": "fa964cf6-51f9-4773-ac09-24dc5385c2f1",
   "metadata": {},
   "outputs": [
    {
     "data": {
      "text/plain": [
       "('Hannah', 14, 66)"
      ]
     },
     "execution_count": 52,
     "metadata": {},
     "output_type": "execute_result"
    }
   ],
   "source": [
    "personal = ('Hannah', 14, 5*12+6)\n",
    "personal"
   ]
  },
  {
   "cell_type": "code",
   "execution_count": 53,
   "id": "8ee730bf-d149-49c8-bd4a-a1125fdb86d1",
   "metadata": {},
   "outputs": [
    {
     "data": {
      "text/plain": [
       "('hello',)"
      ]
     },
     "execution_count": 53,
     "metadata": {},
     "output_type": "execute_result"
    }
   ],
   "source": [
    "singleton = (\"hello\",)\n",
    "singleton"
   ]
  },
  {
   "cell_type": "code",
   "execution_count": 54,
   "id": "32d87a88-aebe-48e2-9fe8-58da390493ad",
   "metadata": {},
   "outputs": [
    {
     "data": {
      "text/plain": [
       "tuple"
      ]
     },
     "execution_count": 54,
     "metadata": {},
     "output_type": "execute_result"
    }
   ],
   "source": [
    "type(singleton) # tuple"
   ]
  },
  {
   "cell_type": "code",
   "execution_count": 55,
   "id": "54c060e6-e746-4244-97ee-ec5883119e65",
   "metadata": {},
   "outputs": [
    {
     "data": {
      "text/plain": [
       "'hello'"
      ]
     },
     "execution_count": 55,
     "metadata": {},
     "output_type": "execute_result"
    }
   ],
   "source": [
    "singleton1 = (\"hello\")\n",
    "singleton1"
   ]
  },
  {
   "cell_type": "code",
   "execution_count": 56,
   "id": "2d0a8993-7695-4ac5-9156-1dbf76b91dfb",
   "metadata": {},
   "outputs": [
    {
     "data": {
      "text/plain": [
       "str"
      ]
     },
     "execution_count": 56,
     "metadata": {},
     "output_type": "execute_result"
    }
   ],
   "source": [
    "type(singleton1) # 結果與上述程式碼不同."
   ]
  },
  {
   "cell_type": "code",
   "execution_count": 57,
   "id": "9cef646a-79f2-4f41-8091-07d12db6c2b9",
   "metadata": {},
   "outputs": [
    {
     "data": {
      "text/plain": [
       "2"
      ]
     },
     "execution_count": 57,
     "metadata": {},
     "output_type": "execute_result"
    }
   ],
   "source": [
    "# single format: tuple[index]\n",
    "# index : 0  ~  len(tuple)-1\n",
    "# index: -len(tuple)  ~  -1\n",
    "f= (2,3,4,5)\n",
    "f[0]"
   ]
  },
  {
   "cell_type": "code",
   "execution_count": 58,
   "id": "eaa6a8bc-8156-49b9-a4aa-ca4895465a9d",
   "metadata": {},
   "outputs": [
    {
     "data": {
      "text/plain": [
       "5"
      ]
     },
     "execution_count": 58,
     "metadata": {},
     "output_type": "execute_result"
    }
   ],
   "source": [
    "f[-1] # 索引 -1 表示倒數第1個元素"
   ]
  },
  {
   "cell_type": "code",
   "execution_count": 59,
   "id": "c87462d8-8bbb-4790-b39b-069db1a31fe3",
   "metadata": {},
   "outputs": [
    {
     "data": {
      "text/plain": [
       "4"
      ]
     },
     "execution_count": 59,
     "metadata": {},
     "output_type": "execute_result"
    }
   ],
   "source": [
    "f[-2]"
   ]
  },
  {
   "cell_type": "code",
   "execution_count": 60,
   "id": "8b7fd5c7-8854-409b-9ac5-67ae3418434e",
   "metadata": {},
   "outputs": [
    {
     "data": {
      "text/plain": [
       "(3, 'RWEPA')"
      ]
     },
     "execution_count": 60,
     "metadata": {},
     "output_type": "execute_result"
    }
   ],
   "source": [
    "f[len(f)-1]\n",
    "\n",
    "# slice format: tuple [start:end ]. Items from start to (end -1)\n",
    "t=((1,2), (2,\"Hi\"), (3,\"RWEPA\"), 2+3j, 6E23)\n",
    "t[2]"
   ]
  },
  {
   "cell_type": "code",
   "execution_count": 61,
   "id": "704b7eb7-77a9-4099-b827-dcb0266ac34a",
   "metadata": {},
   "outputs": [
    {
     "data": {
      "text/plain": [
       "((1, 2), (2, 'Hi'), (3, 'RWEPA'))"
      ]
     },
     "execution_count": 61,
     "metadata": {},
     "output_type": "execute_result"
    }
   ],
   "source": [
    "t[:3]"
   ]
  },
  {
   "cell_type": "code",
   "execution_count": 62,
   "id": "5cd950bf-2004-4645-b13a-c38dda91727c",
   "metadata": {},
   "outputs": [
    {
     "data": {
      "text/plain": [
       "((2+3j), 6e+23)"
      ]
     },
     "execution_count": 62,
     "metadata": {},
     "output_type": "execute_result"
    }
   ],
   "source": [
    "t[3:]"
   ]
  },
  {
   "cell_type": "code",
   "execution_count": 63,
   "id": "93a90ca2-53c1-4541-a2a9-a2641ac40375",
   "metadata": {},
   "outputs": [
    {
     "data": {
      "text/plain": [
       "6e+23"
      ]
     },
     "execution_count": 63,
     "metadata": {},
     "output_type": "execute_result"
    }
   ],
   "source": [
    "t[-1]"
   ]
  },
  {
   "cell_type": "code",
   "execution_count": 64,
   "id": "c50ea1e6-c0ca-4811-a546-d07a24a80733",
   "metadata": {},
   "outputs": [
    {
     "data": {
      "text/plain": [
       "((3, 'RWEPA'), (2+3j), 6e+23)"
      ]
     },
     "execution_count": 64,
     "metadata": {},
     "output_type": "execute_result"
    }
   ],
   "source": [
    "t[-3:]"
   ]
  },
  {
   "cell_type": "code",
   "execution_count": 65,
   "id": "f8a92388-ad70-4222-a501-d55cd169015d",
   "metadata": {},
   "outputs": [
    {
     "data": {
      "text/plain": [
       "5"
      ]
     },
     "execution_count": 65,
     "metadata": {},
     "output_type": "execute_result"
    }
   ],
   "source": [
    "# tuple 長度\n",
    "len(t) # 5"
   ]
  },
  {
   "cell_type": "code",
   "execution_count": 66,
   "id": "a9c8845c-f72e-467c-9326-4175809ad867",
   "metadata": {},
   "outputs": [
    {
     "data": {
      "text/plain": [
       "('男', '女', '女')"
      ]
     },
     "execution_count": 66,
     "metadata": {},
     "output_type": "execute_result"
    }
   ],
   "source": [
    "# tuple 建構子\n",
    "# 使用 tuple(( ... )) 或 tuple([ ... ]) \n",
    "employeeGender = tuple((\"男\", \"女\", \"女\"))\n",
    "employeeGender"
   ]
  },
  {
   "cell_type": "code",
   "execution_count": 67,
   "id": "b18b30e4-f53e-462e-9fc3-5d9cbc80ac71",
   "metadata": {},
   "outputs": [
    {
     "name": "stdout",
     "output_type": "stream",
     "text": [
      "apple\n",
      "banana\n",
      "cherry\n"
     ]
    }
   ],
   "source": [
    "# tuple unpacking - 將元素指派至變數\n",
    "fruits = (\"apple\", \"banana\", \"cherry\")\n",
    "(green, yellow, red) = fruits\n",
    "print(green)\n",
    "print(yellow)\n",
    "print(red)\n",
    "\n",
    "# TRY: green, yellow, red = fruits"
   ]
  },
  {
   "cell_type": "code",
   "execution_count": 68,
   "id": "c86ac1a5-2a54-4da0-8369-0387067a2615",
   "metadata": {},
   "outputs": [
    {
     "name": "stdout",
     "output_type": "stream",
     "text": [
      "apple\n",
      "banana\n",
      "['cherry', 'strawberry', 'raspberry']\n"
     ]
    }
   ],
   "source": [
    "# tuple unpacking - 使用萬用字元*\n",
    "fruits = (\"apple\", \"banana\", \"cherry\", \"strawberry\", \"raspberry\")\n",
    "(green, yellow, *red) = fruits\n",
    "print(green)\n",
    "print(yellow)\n",
    "print(red)"
   ]
  },
  {
   "cell_type": "code",
   "execution_count": 69,
   "id": "7e12d80b-7bac-4676-8df6-b5144c68f87d",
   "metadata": {},
   "outputs": [
    {
     "name": "stdout",
     "output_type": "stream",
     "text": [
      "apple\n",
      "banana\n",
      "cherry\n"
     ]
    }
   ],
   "source": [
    "# tuple - loop 處理\n",
    "fruits = (\"apple\", \"banana\", \"cherry\")\n",
    "\n",
    "# 方法1. tuple - 取出元素, 使用for\n",
    "for x in fruits:\n",
    "  print(x)"
   ]
  },
  {
   "cell_type": "code",
   "execution_count": 70,
   "id": "fb5fac00-2d30-484d-a17a-a095caaf3d0a",
   "metadata": {},
   "outputs": [
    {
     "name": "stdout",
     "output_type": "stream",
     "text": [
      "apple\n",
      "banana\n",
      "cherry\n"
     ]
    }
   ],
   "source": [
    "# 方法2. tuple - 取出元素, 使用while\n",
    "i = 0\n",
    "while i < len(fruits):\n",
    "  print(fruits[i])\n",
    "  i = i + 1  "
   ]
  },
  {
   "cell_type": "code",
   "execution_count": 71,
   "id": "45c8f0e7-bae7-4daa-8312-cd1e952c7135",
   "metadata": {},
   "outputs": [
    {
     "name": "stdout",
     "output_type": "stream",
     "text": [
      "apple\n",
      "banana\n",
      "cherry\n"
     ]
    }
   ],
   "source": [
    "# 方法3. tuple - 取出元素, 使用指標 range, len\n",
    "for i in range(len(fruits)):\n",
    "  print(fruits[i])"
   ]
  },
  {
   "cell_type": "code",
   "execution_count": 72,
   "id": "eebd7ef0-7115-4387-a1c9-16325362fa26",
   "metadata": {},
   "outputs": [
    {
     "name": "stdout",
     "output_type": "stream",
     "text": [
      "('台北', '台中', '高雄', '男', '女', '女')\n"
     ]
    }
   ],
   "source": [
    "# tuple - join 結合\n",
    "tuple1 = (\"台北\", \"台中\", \"高雄\")\n",
    "tuple2 = (\"男\", \"女\", \"女\")\n",
    "tuple3 = tuple1 + tuple2\n",
    "print(tuple3)"
   ]
  },
  {
   "cell_type": "code",
   "execution_count": 73,
   "id": "2220dc22-e241-49b3-b17e-c101d630557a",
   "metadata": {},
   "outputs": [
    {
     "data": {
      "text/plain": [
       "('台北', '台中', '高雄', '台北', '台中', '高雄', '台北', '台中', '高雄')"
      ]
     },
     "execution_count": 73,
     "metadata": {},
     "output_type": "execute_result"
    }
   ],
   "source": [
    "# tuple - 重複\n",
    "tuple1*3\n",
    "3*tuple1"
   ]
  },
  {
   "cell_type": "code",
   "execution_count": 74,
   "id": "a78abdbb-fb6e-4a14-8630-f1ef47d5317d",
   "metadata": {},
   "outputs": [
    {
     "data": {
      "text/plain": [
       "2"
      ]
     },
     "execution_count": 74,
     "metadata": {},
     "output_type": "execute_result"
    }
   ],
   "source": [
    "# count 次數統計\n",
    "tuple = (\"男\", \"女\", \"女\", \"男\", \"女\")\n",
    "tuple.count(\"男\") # 2"
   ]
  },
  {
   "cell_type": "code",
   "execution_count": 75,
   "id": "df201c6a-294e-44ff-b44b-00b7920f76cb",
   "metadata": {},
   "outputs": [
    {
     "data": {
      "text/plain": [
       "3"
      ]
     },
     "execution_count": 75,
     "metadata": {},
     "output_type": "execute_result"
    }
   ],
   "source": [
    "tuple.count(\"女\") # 3"
   ]
  },
  {
   "cell_type": "markdown",
   "id": "e2e0ac9e-57a4-4d5f-9e27-113273cbdfc0",
   "metadata": {},
   "source": [
    "# 2. List 串列(清單)"
   ]
  },
  {
   "cell_type": "code",
   "execution_count": 76,
   "id": "c15e67b3-36df-442b-be6b-51acad840260",
   "metadata": {},
   "outputs": [],
   "source": [
    "# 建立串列\n",
    "a = [2, 3, 4]            # 整數串列\n",
    "b = [2, 7, 3.5, \"Hello\"] # 混合資料串列\n",
    "c = []\t                 # 空串列\n",
    "d = [2, [a, b]]\t         # 巢狀串列"
   ]
  },
  {
   "cell_type": "code",
   "execution_count": 77,
   "id": "030bdb9f-024c-4644-9ded-81878f412bc6",
   "metadata": {},
   "outputs": [
    {
     "data": {
      "text/plain": [
       "[2, 3, 4]"
      ]
     },
     "execution_count": 77,
     "metadata": {},
     "output_type": "execute_result"
    }
   ],
   "source": [
    "# 串列的操作\n",
    "a"
   ]
  },
  {
   "cell_type": "code",
   "execution_count": 78,
   "id": "91cb3886-39c8-4d84-a0cc-0c6ad9f693c3",
   "metadata": {},
   "outputs": [
    {
     "data": {
      "text/plain": [
       "3"
      ]
     },
     "execution_count": 78,
     "metadata": {},
     "output_type": "execute_result"
    }
   ],
   "source": [
    "a[1] \t   # 取得第2個元素"
   ]
  },
  {
   "cell_type": "code",
   "execution_count": 79,
   "id": "c64ed536-2db3-440f-85c5-3dbd8d38bfef",
   "metadata": {},
   "outputs": [
    {
     "data": {
      "text/plain": [
       "4"
      ]
     },
     "execution_count": 79,
     "metadata": {},
     "output_type": "execute_result"
    }
   ],
   "source": [
    "a[-1]      # 取得最後一個元素"
   ]
  },
  {
   "cell_type": "code",
   "execution_count": 80,
   "id": "241e877d-bb90-4e7b-b69e-7d665e6367d4",
   "metadata": {},
   "outputs": [
    {
     "data": {
      "text/plain": [
       "[7, 3.5]"
      ]
     },
     "execution_count": 80,
     "metadata": {},
     "output_type": "execute_result"
    }
   ],
   "source": [
    "b[1:3] \t   # 串列篩選"
   ]
  },
  {
   "cell_type": "code",
   "execution_count": 81,
   "id": "6bc9a19f-f231-4a32-8227-1dd8b9d34124",
   "metadata": {},
   "outputs": [
    {
     "data": {
      "text/plain": [
       "4"
      ]
     },
     "execution_count": 81,
     "metadata": {},
     "output_type": "execute_result"
    }
   ],
   "source": [
    "d[1][0][2] # 巢狀串列操作"
   ]
  },
  {
   "cell_type": "code",
   "execution_count": 82,
   "id": "327cc083-497c-4556-8ff3-11a990f9034a",
   "metadata": {},
   "outputs": [
    {
     "data": {
      "text/plain": [
       "2"
      ]
     },
     "execution_count": 82,
     "metadata": {},
     "output_type": "execute_result"
    }
   ],
   "source": [
    "b[0]       # 2"
   ]
  },
  {
   "cell_type": "code",
   "execution_count": 83,
   "id": "a004d307-4d5f-4712-ba2c-f6246d3f9943",
   "metadata": {},
   "outputs": [
    {
     "data": {
      "text/plain": [
       "42"
      ]
     },
     "execution_count": 83,
     "metadata": {},
     "output_type": "execute_result"
    }
   ],
   "source": [
    "b[0] = 42  # 修改元素值\n",
    "b[0]       # 42"
   ]
  },
  {
   "cell_type": "code",
   "execution_count": 84,
   "id": "c1473b3c-fad0-4c37-866b-5713097e0f7f",
   "metadata": {},
   "outputs": [
    {
     "data": {
      "text/plain": [
       "[1, 2, (3, 'Hi'), [4, 'RWEPA'], (2+3j), 60000000.0]"
      ]
     },
     "execution_count": 84,
     "metadata": {},
     "output_type": "execute_result"
    }
   ],
   "source": [
    "# 串列 slice format\n",
    "t=[1, 2, (3,\"Hi\"), [4,\"RWEPA\"], 2+3j, 6E7]\n",
    "t"
   ]
  },
  {
   "cell_type": "code",
   "execution_count": 85,
   "id": "44294e35-163f-4e50-a89b-446eaa05ef16",
   "metadata": {},
   "outputs": [
    {
     "data": {
      "text/plain": [
       "(3, 'Hi')"
      ]
     },
     "execution_count": 85,
     "metadata": {},
     "output_type": "execute_result"
    }
   ],
   "source": [
    "t[2]"
   ]
  },
  {
   "cell_type": "code",
   "execution_count": 86,
   "id": "1bece81c-0acd-4b08-abfb-46b851fd35be",
   "metadata": {},
   "outputs": [
    {
     "data": {
      "text/plain": [
       "[1, 2, (3, 'Hi')]"
      ]
     },
     "execution_count": 86,
     "metadata": {},
     "output_type": "execute_result"
    }
   ],
   "source": [
    "t[:3]"
   ]
  },
  {
   "cell_type": "code",
   "execution_count": 87,
   "id": "f93447bf-29cd-4a82-9b77-04a8fdd37724",
   "metadata": {},
   "outputs": [
    {
     "data": {
      "text/plain": [
       "[[4, 'RWEPA'], (2+3j), 60000000.0]"
      ]
     },
     "execution_count": 87,
     "metadata": {},
     "output_type": "execute_result"
    }
   ],
   "source": [
    "t[3:]"
   ]
  },
  {
   "cell_type": "code",
   "execution_count": 88,
   "id": "1d0d3a23-4815-4ce8-ad76-483132076f81",
   "metadata": {},
   "outputs": [
    {
     "data": {
      "text/plain": [
       "60000000.0"
      ]
     },
     "execution_count": 88,
     "metadata": {},
     "output_type": "execute_result"
    }
   ],
   "source": [
    "t[-1]"
   ]
  },
  {
   "cell_type": "code",
   "execution_count": 89,
   "id": "19e664c7-59e4-43df-89ae-76ad2489dad0",
   "metadata": {},
   "outputs": [
    {
     "data": {
      "text/plain": [
       "[[4, 'RWEPA'], (2+3j), 60000000.0]"
      ]
     },
     "execution_count": 89,
     "metadata": {},
     "output_type": "execute_result"
    }
   ],
   "source": [
    "t[-3:]"
   ]
  },
  {
   "cell_type": "code",
   "execution_count": 90,
   "id": "1f38ec39-2bd1-49c5-b037-d7e51bdd4f92",
   "metadata": {},
   "outputs": [
    {
     "data": {
      "text/plain": [
       "6"
      ]
     },
     "execution_count": 90,
     "metadata": {},
     "output_type": "execute_result"
    }
   ],
   "source": [
    "# 串列長度\n",
    "len(t)"
   ]
  },
  {
   "cell_type": "code",
   "execution_count": 91,
   "id": "c3df2953-e7ee-4bd6-a3c0-c9ccf4a3327b",
   "metadata": {},
   "outputs": [
    {
     "data": {
      "text/plain": [
       "['男', '女', '女']"
      ]
     },
     "execution_count": 91,
     "metadata": {},
     "output_type": "execute_result"
    }
   ],
   "source": [
    "# list 建構子\n",
    "# 使用 list(( ... )) 或 list([ ... ])\n",
    "mylist1 = list((\"男\", \"女\", \"女\"))\n",
    "mylist1"
   ]
  },
  {
   "cell_type": "code",
   "execution_count": 92,
   "id": "4a1faf54-6fc1-439f-af7e-b20f4fb24e03",
   "metadata": {},
   "outputs": [
    {
     "data": {
      "text/plain": [
       "['男', '女', '女']"
      ]
     },
     "execution_count": 92,
     "metadata": {},
     "output_type": "execute_result"
    }
   ],
   "source": [
    "mylist2 = list([\"男\", \"女\", \"女\"])\n",
    "mylist2"
   ]
  },
  {
   "cell_type": "code",
   "execution_count": 93,
   "id": "0b8bd924-50a9-4224-b722-1ea53d646995",
   "metadata": {},
   "outputs": [
    {
     "data": {
      "text/plain": [
       "True"
      ]
     },
     "execution_count": 93,
     "metadata": {},
     "output_type": "execute_result"
    }
   ],
   "source": [
    "mylist1 == mylist2"
   ]
  },
  {
   "cell_type": "code",
   "execution_count": 94,
   "id": "e3b833e9-76c0-49e7-91be-364d6582d29e",
   "metadata": {},
   "outputs": [
    {
     "name": "stdout",
     "output_type": "stream",
     "text": [
      "apple\n",
      "banana\n",
      "cherry\n"
     ]
    },
    {
     "data": {
      "text/plain": [
       "str"
      ]
     },
     "execution_count": 94,
     "metadata": {},
     "output_type": "execute_result"
    }
   ],
   "source": [
    "# 串列 unpacking - 將元素指派至變數\n",
    "fruits = [\"apple\", \"banana\", \"cherry\"]\n",
    "green, yellow, red = fruits\n",
    "print(green)\n",
    "print(yellow)\n",
    "print(red)\n",
    "type(green) # str"
   ]
  },
  {
   "cell_type": "code",
   "execution_count": 95,
   "id": "67aac772-a3fd-43e3-8bc0-0459328f104a",
   "metadata": {},
   "outputs": [
    {
     "name": "stdout",
     "output_type": "stream",
     "text": [
      "apple\n",
      "banana\n",
      "['cherry', 'strawberry', 'raspberry']\n"
     ]
    },
    {
     "data": {
      "text/plain": [
       "str"
      ]
     },
     "execution_count": 95,
     "metadata": {},
     "output_type": "execute_result"
    }
   ],
   "source": [
    "# 串列 unpacking - 使用萬用字元*\n",
    "fruits = [\"apple\", \"banana\", \"cherry\", \"strawberry\", \"raspberry\"]\n",
    "green, yellow, *red = fruits\n",
    "print(green)\n",
    "print(yellow)\n",
    "print(red)\n",
    "type(green) # str"
   ]
  },
  {
   "cell_type": "code",
   "execution_count": 96,
   "id": "105599fb-b1e3-4b9a-9001-c0dd4ccbf816",
   "metadata": {},
   "outputs": [],
   "source": [
    "# 串列 - loop 處理\n",
    "mylist = [1, 2, 3, [4, 5], [\"A\", \"B\", \"C\"]]"
   ]
  },
  {
   "cell_type": "code",
   "execution_count": 97,
   "id": "f67899e3-2c41-4dbc-ac66-9494950e828a",
   "metadata": {},
   "outputs": [
    {
     "name": "stdout",
     "output_type": "stream",
     "text": [
      "1\n",
      "2\n",
      "3\n",
      "[4, 5]\n",
      "['A', 'B', 'C']\n"
     ]
    }
   ],
   "source": [
    "# 練習 loop 方法\n",
    "# 方法1. list - 取出元素, 使用for\n",
    "for x in mylist:\n",
    "  print(x)"
   ]
  },
  {
   "cell_type": "code",
   "execution_count": 98,
   "id": "ca1ed003-cd0a-404b-8f12-ed9bde524314",
   "metadata": {},
   "outputs": [
    {
     "name": "stdout",
     "output_type": "stream",
     "text": [
      "1\n",
      "2\n",
      "3\n",
      "[4, 5]\n",
      "['A', 'B', 'C']\n"
     ]
    }
   ],
   "source": [
    "# 方法2. list - 取出元素, 使用while\n",
    "i = 0\n",
    "while i < len(mylist):\n",
    "  print(mylist[i])\n",
    "  i = i + 1"
   ]
  },
  {
   "cell_type": "code",
   "execution_count": 99,
   "id": "f0142060-a86e-44b7-8902-d16c88f54122",
   "metadata": {},
   "outputs": [
    {
     "name": "stdout",
     "output_type": "stream",
     "text": [
      "1\n",
      "2\n",
      "3\n",
      "[4, 5]\n",
      "['A', 'B', 'C']\n"
     ]
    }
   ],
   "source": [
    "# 方法3. list - 取出元素, 使用指標 range, len\n",
    "for i in range(len(mylist)):\n",
    "  print(mylist[i])"
   ]
  },
  {
   "cell_type": "code",
   "execution_count": 100,
   "id": "1de73fc9-9430-4986-a936-9a8da968bf94",
   "metadata": {},
   "outputs": [
    {
     "name": "stdout",
     "output_type": "stream",
     "text": [
      "1\n",
      "2\n",
      "3\n",
      "[4, 5]\n",
      "['A', 'B', 'C']\n"
     ]
    },
    {
     "data": {
      "text/plain": [
       "[None, None, None, None, None]"
      ]
     },
     "execution_count": 100,
     "metadata": {},
     "output_type": "execute_result"
    }
   ],
   "source": [
    "# 方法4. list - 取出元素, 使用串列包含法 (List Comprehension)\n",
    "[print(x) for x in mylist]"
   ]
  },
  {
   "cell_type": "code",
   "execution_count": 101,
   "id": "b367973b-f8dd-4f81-b8ce-0b5e7e2f8ad0",
   "metadata": {},
   "outputs": [
    {
     "name": "stdout",
     "output_type": "stream",
     "text": [
      "['Julia', 'Java', 'JavaScript']\n"
     ]
    }
   ],
   "source": [
    "# 串列包含法應用\n",
    "\n",
    "# for 資料篩選-包括字母 a\n",
    "codes = [\"Python\", \"R\", \"SQL\", \"Julia\", \".NET\", \"Java\", \"JavaScript\"]\n",
    "newlist = []\n",
    "for x in codes:\n",
    "  if \"a\" in x:\n",
    "    newlist.append(x)\n",
    "print(newlist)"
   ]
  },
  {
   "cell_type": "code",
   "execution_count": 102,
   "id": "e849f426-48ec-4b70-b44b-b55114c66625",
   "metadata": {},
   "outputs": [
    {
     "name": "stdout",
     "output_type": "stream",
     "text": [
      "['Julia', 'Java', 'JavaScript']\n"
     ]
    }
   ],
   "source": [
    "# 串列包含法應用1\n",
    "# 亦可用於序列, 集合, 字典等可反覆運算物件(可迭代物件, iterable object)\n",
    "codes = [\"Python\", \"R\", \"SQL\", \"Julia\", \".NET\", \"Java\", \"JavaScript\"]\n",
    "newlist = [x for x in codes if \"a\" in x]\n",
    "print(newlist)"
   ]
  },
  {
   "cell_type": "code",
   "execution_count": 103,
   "id": "eb2e58fb-313c-45a3-a1f0-94e747e4b750",
   "metadata": {},
   "outputs": [
    {
     "name": "stdout",
     "output_type": "stream",
     "text": [
      "['PYTHON', 'R', 'SQL', 'JULIA', '.NET', 'JAVA', 'JAVASCRIPT']\n"
     ]
    }
   ],
   "source": [
    "# 串列包含法應用2\n",
    "newlist = [x.upper() for x in codes]\n",
    "print(newlist)"
   ]
  },
  {
   "cell_type": "code",
   "execution_count": 104,
   "id": "7d2b0e51-0fcf-45b3-8127-7c00d56a095c",
   "metadata": {},
   "outputs": [],
   "source": [
    "# AttributeError: 'list' object has no attribute 'upper'\n",
    "# codes.upper()"
   ]
  },
  {
   "cell_type": "code",
   "execution_count": 105,
   "id": "ef52d558-deb4-447d-aa46-4ceae1b56f09",
   "metadata": {},
   "outputs": [
    {
     "name": "stdout",
     "output_type": "stream",
     "text": [
      "['RWEPA', 'RWEPA', 'RWEPA', 'RWEPA', 'RWEPA', 'RWEPA', 'RWEPA']\n"
     ]
    }
   ],
   "source": [
    "# 串列包含法應用3\n",
    "newlist = ['RWEPA' for x in codes]\n",
    "print(newlist)"
   ]
  },
  {
   "cell_type": "code",
   "execution_count": 106,
   "id": "c502b8d7-efe6-4fc0-8d32-83c54e58b9e3",
   "metadata": {},
   "outputs": [
    {
     "data": {
      "text/plain": [
       "[2, 3, 4, 42, 7, 3.5, 'Hello']"
      ]
     },
     "execution_count": 106,
     "metadata": {},
     "output_type": "execute_result"
    }
   ],
   "source": [
    "# 串列 join 結合\n",
    "e = a + b  # Join two lists\n",
    "e"
   ]
  },
  {
   "cell_type": "code",
   "execution_count": 107,
   "id": "597d7692-29fe-4bad-b9c0-8c32eff990e1",
   "metadata": {},
   "outputs": [
    {
     "data": {
      "text/plain": [
       "[2, 3, 4, 2, 3, 4, 2, 3, 4]"
      ]
     },
     "execution_count": 107,
     "metadata": {},
     "output_type": "execute_result"
    }
   ],
   "source": [
    "# 串列 repeat 重複\n",
    "f1 = a*3    # repeat lists\n",
    "f1"
   ]
  },
  {
   "cell_type": "code",
   "execution_count": 108,
   "id": "9769997c-9a74-4113-984f-a650f162d41f",
   "metadata": {},
   "outputs": [
    {
     "data": {
      "text/plain": [
       "[2, 3, 4, 2, 3, 4, 2, 3, 4]"
      ]
     },
     "execution_count": 108,
     "metadata": {},
     "output_type": "execute_result"
    }
   ],
   "source": [
    "f2 = 3*a\n",
    "f2"
   ]
  },
  {
   "cell_type": "code",
   "execution_count": 109,
   "id": "624e38a5-c760-48a8-915b-9d92a3f28954",
   "metadata": {},
   "outputs": [
    {
     "name": "stdout",
     "output_type": "stream",
     "text": [
      "['.NET', 'JavaScript', 'Julia', 'R', 'SQL', 'java', 'python']\n"
     ]
    }
   ],
   "source": [
    "# 串列排序-預設為遞增排序,英文字母先大寫,再小寫\n",
    "codes = [\"python\", \"R\", \"SQL\", \"Julia\", \".NET\", \"java\", \"JavaScript\"]\n",
    "codes.sort()\n",
    "print(codes)"
   ]
  },
  {
   "cell_type": "code",
   "execution_count": 110,
   "id": "7fd6d11d-c10e-4af2-b4d8-91ab98ac2aaa",
   "metadata": {},
   "outputs": [
    {
     "name": "stdout",
     "output_type": "stream",
     "text": [
      "['.NET', 'java', 'JavaScript', 'Julia', 'python', 'R', 'SQL']\n"
     ]
    }
   ],
   "source": [
    "# 串列排序-先全部小寫,再排序\n",
    "codes = [\"python\", \"R\", \"SQL\", \"Julia\", \".NET\", \"java\", \"JavaScript\"]\n",
    "codes.sort(key = str.lower)\n",
    "print(codes)"
   ]
  },
  {
   "cell_type": "code",
   "execution_count": 111,
   "id": "766c8112-7aa4-4f90-a931-4e70e97877c4",
   "metadata": {},
   "outputs": [
    {
     "name": "stdout",
     "output_type": "stream",
     "text": [
      "['python', 'java', 'SQL', 'R', 'Julia', 'JavaScript', '.NET']\n"
     ]
    }
   ],
   "source": [
    "# 串列排序-遞減排序\n",
    "codes = [\"python\", \"R\", \"SQL\", \"Julia\", \".NET\", \"java\", \"JavaScript\"]\n",
    "codes.sort(reverse =True)\n",
    "print(codes)"
   ]
  },
  {
   "cell_type": "code",
   "execution_count": 112,
   "id": "982594ec-a8ac-4386-b34f-72ed8a7e4732",
   "metadata": {},
   "outputs": [
    {
     "name": "stdout",
     "output_type": "stream",
     "text": [
      "['JavaScript', 'java', '.NET', 'Julia', 'SQL', 'R', 'python']\n"
     ]
    }
   ],
   "source": [
    "# 串列反序\n",
    "codes = [\"python\", \"R\", \"SQL\", \"Julia\", \".NET\", \"java\", \"JavaScript\"]\n",
    "codes.reverse()\n",
    "print(codes)"
   ]
  },
  {
   "cell_type": "code",
   "execution_count": 113,
   "id": "6a22fb74-7181-4ce7-bcc7-cb6661d77c20",
   "metadata": {},
   "outputs": [
    {
     "data": {
      "text/plain": [
       "[999, 2, 3]"
      ]
     },
     "execution_count": 113,
     "metadata": {},
     "output_type": "execute_result"
    }
   ],
   "source": [
    "# 串列複製,等號會建立參考物件\n",
    "a = [1, 2, 3]\n",
    "a\n",
    "b = a\n",
    "b[0] = 999 # 修改b,亦會修改a\n",
    "b"
   ]
  },
  {
   "cell_type": "code",
   "execution_count": 114,
   "id": "32ea27d8-a365-4c22-bc7e-2536774481e6",
   "metadata": {},
   "outputs": [
    {
     "data": {
      "text/plain": [
       "[999, 2, 3]"
      ]
     },
     "execution_count": 114,
     "metadata": {},
     "output_type": "execute_result"
    }
   ],
   "source": [
    "a # a已經更新"
   ]
  },
  {
   "cell_type": "code",
   "execution_count": 115,
   "id": "e578ee3f-5ff9-4fe0-bb84-20dc670e6ca1",
   "metadata": {},
   "outputs": [],
   "source": [
    "# 串列複製-使用 copy\n",
    "a = [1, 2, 3]\n",
    "b = a.copy()\n",
    "b\n",
    "b[0] = 999"
   ]
  },
  {
   "cell_type": "code",
   "execution_count": 116,
   "id": "a65978e1-d9a4-4402-9cee-1ddc12c24148",
   "metadata": {},
   "outputs": [
    {
     "data": {
      "text/plain": [
       "[999, 2, 3]"
      ]
     },
     "execution_count": 116,
     "metadata": {},
     "output_type": "execute_result"
    }
   ],
   "source": [
    "b"
   ]
  },
  {
   "cell_type": "code",
   "execution_count": 117,
   "id": "f5493b87-9bbb-4186-8bdb-b2020debcd21",
   "metadata": {},
   "outputs": [
    {
     "data": {
      "text/plain": [
       "[1, 2, 3]"
      ]
     },
     "execution_count": 117,
     "metadata": {},
     "output_type": "execute_result"
    }
   ],
   "source": [
    "a # a保持不變"
   ]
  },
  {
   "cell_type": "code",
   "execution_count": 118,
   "id": "3a2a1b70-f8d4-4489-9e8f-c2601edc6780",
   "metadata": {},
   "outputs": [
    {
     "data": {
      "text/plain": [
       "[123, 2, 3]"
      ]
     },
     "execution_count": 118,
     "metadata": {},
     "output_type": "execute_result"
    }
   ],
   "source": [
    "# 串列複製-使用 list\n",
    "a = [1, 2, 3]\n",
    "c = list(a)\n",
    "c\n",
    "c[0] = 123\n",
    "c"
   ]
  },
  {
   "cell_type": "code",
   "execution_count": 119,
   "id": "f0e76d50-3633-4eb9-a94f-032987cf5817",
   "metadata": {},
   "outputs": [
    {
     "data": {
      "text/plain": [
       "[1, 2, 3]"
      ]
     },
     "execution_count": 119,
     "metadata": {},
     "output_type": "execute_result"
    }
   ],
   "source": [
    "a # a保持不變"
   ]
  },
  {
   "cell_type": "code",
   "execution_count": 120,
   "id": "36825cc3-8cc6-48a5-a9ff-bc8f8a6fd146",
   "metadata": {},
   "outputs": [
    {
     "data": {
      "text/plain": [
       "[1, 2, 3, ['BigData', 'SQL'], '2021/8/14']"
      ]
     },
     "execution_count": 120,
     "metadata": {},
     "output_type": "execute_result"
    }
   ],
   "source": [
    "# 附加元素 append\n",
    "a = [1, 2, 3]\n",
    "a.append(['BigData', 'SQL']) # 新增1個元素\n",
    "a\n",
    "a.append('2021/8/14')\n",
    "a"
   ]
  },
  {
   "cell_type": "code",
   "execution_count": 121,
   "id": "741614f1-d825-4b50-b50a-89a93ecc5e81",
   "metadata": {},
   "outputs": [
    {
     "data": {
      "text/plain": [
       "[1, 2, 3, ['BigData', 'SQL'], '2021/8/14', 'Python', 'R', 'Julia']"
      ]
     },
     "execution_count": 121,
     "metadata": {},
     "output_type": "execute_result"
    }
   ],
   "source": [
    "# 延伸元素 extend\n",
    "a.extend(['Python', 'R', \"Julia\"]) # 新增一個串列\n",
    "a"
   ]
  },
  {
   "cell_type": "code",
   "execution_count": 122,
   "id": "1dab4986-0ee0-44e2-a506-d733d50266f9",
   "metadata": {},
   "outputs": [
    {
     "data": {
      "text/plain": [
       "[1, 2, 3, '4', '5', 'RWEPA']"
      ]
     },
     "execution_count": 122,
     "metadata": {},
     "output_type": "execute_result"
    }
   ],
   "source": [
    "# 延伸元素 extend - 加入tuple,list,set,dict\n",
    "a = [1, 2, 3]\n",
    "a.extend(('4', '5', 'RWEPA')) # 延伸一個序列\n",
    "a"
   ]
  },
  {
   "cell_type": "code",
   "execution_count": 123,
   "id": "74c09375-078b-4de2-aaef-5f368abd4d32",
   "metadata": {},
   "outputs": [
    {
     "data": {
      "text/plain": [
       "[1, 2, 3, '4', '5', 'RWEPA', '10', '8']"
      ]
     },
     "execution_count": 123,
     "metadata": {},
     "output_type": "execute_result"
    }
   ],
   "source": [
    "a.extend({'8', '8', '10'}) # 延伸一個集合\n",
    "a"
   ]
  },
  {
   "cell_type": "code",
   "execution_count": 124,
   "id": "008cef5b-fb2b-47a3-88ee-b62bf82057ab",
   "metadata": {},
   "outputs": [
    {
     "data": {
      "text/plain": [
       "[1, 2, 3, '4', '5', 'RWEPA', '10', '8', 'a', 'b']"
      ]
     },
     "execution_count": 124,
     "metadata": {},
     "output_type": "execute_result"
    }
   ],
   "source": [
    "a.extend({'a':'R', 'b':'Python'}) # 延伸一個字典-ONLY KEY, NO VALUE\n",
    "a"
   ]
  },
  {
   "cell_type": "code",
   "execution_count": 125,
   "id": "f8033240-bb26-40c5-a793-b26bb0cded4b",
   "metadata": {},
   "outputs": [
    {
     "data": {
      "text/plain": [
       "[0, 1, 2, 3, 4]"
      ]
     },
     "execution_count": 125,
     "metadata": {},
     "output_type": "execute_result"
    }
   ],
   "source": [
    "# 串列 – insert 插入元素\n",
    "a = list(range(5))\n",
    "a"
   ]
  },
  {
   "cell_type": "code",
   "execution_count": 126,
   "id": "bab82795-74c7-4c15-a01c-e9f1b6a6972d",
   "metadata": {},
   "outputs": [
    {
     "data": {
      "text/plain": [
       "[0, 1, 999, 2, 3, 4]"
      ]
     },
     "execution_count": 126,
     "metadata": {},
     "output_type": "execute_result"
    }
   ],
   "source": [
    "a.insert(2, 999) # 在指標為2的位置,插入新元素\n",
    "a"
   ]
  },
  {
   "cell_type": "code",
   "execution_count": 127,
   "id": "3e104556-9a5b-42bd-82ce-34cdcf6b31c7",
   "metadata": {},
   "outputs": [
    {
     "data": {
      "text/plain": [
       "[0, 1, 2, 3, 4]"
      ]
     },
     "execution_count": 127,
     "metadata": {},
     "output_type": "execute_result"
    }
   ],
   "source": [
    "# 串列 – remove, pop, del\n",
    "# 刪除指定元素\n",
    "a.remove(999)\n",
    "a"
   ]
  },
  {
   "cell_type": "code",
   "execution_count": 128,
   "id": "0da94414-ed0c-40c0-bbc0-8b009c9df871",
   "metadata": {},
   "outputs": [
    {
     "data": {
      "text/plain": [
       "[0, 2, 3, 4]"
      ]
     },
     "execution_count": 128,
     "metadata": {},
     "output_type": "execute_result"
    }
   ],
   "source": [
    "# 刪除指定指標元素\n",
    "a.pop(1)\n",
    "a"
   ]
  },
  {
   "cell_type": "code",
   "execution_count": 129,
   "id": "3544309b-06d0-4b25-82ac-7be8f7966cda",
   "metadata": {},
   "outputs": [
    {
     "data": {
      "text/plain": [
       "[0, 3, 4]"
      ]
     },
     "execution_count": 129,
     "metadata": {},
     "output_type": "execute_result"
    }
   ],
   "source": [
    "# 刪除指定指標元素\n",
    "del a[1]\n",
    "a"
   ]
  },
  {
   "cell_type": "code",
   "execution_count": 130,
   "id": "1f2b8812-33e4-4942-82b9-13001c28c892",
   "metadata": {},
   "outputs": [
    {
     "data": {
      "text/plain": [
       "[3, 4]"
      ]
     },
     "execution_count": 130,
     "metadata": {},
     "output_type": "execute_result"
    }
   ],
   "source": [
    "# 刪除第一個元素\n",
    "a.pop(0)\n",
    "a"
   ]
  },
  {
   "cell_type": "code",
   "execution_count": 131,
   "id": "d37435ed-b3ae-44a7-b198-f4333cb9b4a3",
   "metadata": {},
   "outputs": [
    {
     "data": {
      "text/plain": [
       "[3]"
      ]
     },
     "execution_count": 131,
     "metadata": {},
     "output_type": "execute_result"
    }
   ],
   "source": [
    "# 刪除最後一個元素\n",
    "a.pop()\n",
    "a"
   ]
  },
  {
   "cell_type": "code",
   "execution_count": 132,
   "id": "8bdbb0bb-f311-4e75-9f9f-9f60e395e424",
   "metadata": {},
   "outputs": [
    {
     "data": {
      "text/plain": [
       "[]"
      ]
     },
     "execution_count": 132,
     "metadata": {},
     "output_type": "execute_result"
    }
   ],
   "source": [
    "# 清空物件元素,物件仍存在記憶體\n",
    "a.clear()\n",
    "a"
   ]
  },
  {
   "cell_type": "code",
   "execution_count": 133,
   "id": "b19afb17-853c-4c45-9959-d8aa14c76e5b",
   "metadata": {},
   "outputs": [],
   "source": [
    "# 刪除物件,物件不存在記憶體\n",
    "del a\n",
    "\n",
    "# NameError: name 'a' is not defined\n",
    "# print(a)"
   ]
  },
  {
   "cell_type": "code",
   "execution_count": 134,
   "id": "a398a0ae-8746-4564-a293-4b4bf9d9d6ad",
   "metadata": {},
   "outputs": [
    {
     "data": {
      "text/plain": [
       "<zip at 0x23aa360c780>"
      ]
     },
     "execution_count": 134,
     "metadata": {},
     "output_type": "execute_result"
    }
   ],
   "source": [
    "# 串列 - zip 應用\n",
    "a = (\"x1\", \"x2\", \"x3\")\n",
    "b = (\"y1\", \"y2\", \"y3\")\n",
    "c = (1, 2, 3)\n",
    "\n",
    "x = zip(a, b, c)\n",
    "x"
   ]
  },
  {
   "cell_type": "code",
   "execution_count": 135,
   "id": "5b34a61b-0554-4dae-81be-424c51cd1ef2",
   "metadata": {},
   "outputs": [
    {
     "data": {
      "text/plain": [
       "[('x1', 'y1', 1), ('x2', 'y2', 2), ('x3', 'y3', 3)]"
      ]
     },
     "execution_count": 135,
     "metadata": {},
     "output_type": "execute_result"
    }
   ],
   "source": [
    "list(x)"
   ]
  },
  {
   "cell_type": "code",
   "execution_count": 136,
   "id": "817976be-acbb-4426-bd43-dd01156fd741",
   "metadata": {},
   "outputs": [
    {
     "name": "stdout",
     "output_type": "stream",
     "text": [
      "['__add__', '__class__', '__class_getitem__', '__contains__', '__delattr__', '__delitem__', '__dir__', '__doc__', '__eq__', '__format__', '__ge__', '__getattribute__', '__getitem__', '__getstate__', '__gt__', '__hash__', '__iadd__', '__imul__', '__init__', '__init_subclass__', '__iter__', '__le__', '__len__', '__lt__', '__mul__', '__ne__', '__new__', '__reduce__', '__reduce_ex__', '__repr__', '__reversed__', '__rmul__', '__setattr__', '__setitem__', '__sizeof__', '__str__', '__subclasshook__', 'append', 'clear', 'copy', 'count', 'extend', 'index', 'insert', 'pop', 'remove', 'reverse', 'sort']\n"
     ]
    }
   ],
   "source": [
    "# 顯示方法\n",
    "print(dir(list))"
   ]
  },
  {
   "cell_type": "code",
   "execution_count": 137,
   "id": "a1191280-a009-4a88-a8d7-5bd18ee5b110",
   "metadata": {},
   "outputs": [],
   "source": [
    "# 實作練習\n",
    "# 如何顯示不以 __ 開始串列方法的總個數 11"
   ]
  },
  {
   "cell_type": "markdown",
   "id": "4eff2045-38e1-49b4-81e7-7fe0ea191742",
   "metadata": {},
   "source": [
    "# 3. Set 集合\n",
    "\n",
    "+ 集合與字典相似, 但字典沒有key,只有值\n",
    "+ 集合內容不可以修改\n",
    "+ 集合是  unordered\n",
    "+ 集合是  unindexed\n",
    "+ 集合會忽略重複的值"
   ]
  },
  {
   "cell_type": "code",
   "execution_count": 138,
   "id": "38caeef6-9a79-47fc-8d25-d5da4b7ac7b4",
   "metadata": {},
   "outputs": [
    {
     "data": {
      "text/plain": [
       "set"
      ]
     },
     "execution_count": 138,
     "metadata": {},
     "output_type": "execute_result"
    }
   ],
   "source": [
    "a = set() # 空集合\n",
    "type(a)"
   ]
  },
  {
   "cell_type": "code",
   "execution_count": 139,
   "id": "02c1a2d5-4e0a-4683-b3b6-13165b9ed9b1",
   "metadata": {},
   "outputs": [
    {
     "data": {
      "text/plain": [
       "{'台中市', '台北市', '新北市', '桃園市', '高雄市'}"
      ]
     },
     "execution_count": 139,
     "metadata": {},
     "output_type": "execute_result"
    }
   ],
   "source": [
    "b = {\"台北市\", \"新北市\", \"桃園市\", \"台中市\", \"台北市\", \"新北市\", \"高雄市\"}\n",
    "b\n",
    "\n",
    "# b[0] = 1 # TypeError: 'set' object does not support item assignment\n",
    "# b[0]     # TypeError: 'set' object is not subscriptable"
   ]
  },
  {
   "cell_type": "code",
   "execution_count": 140,
   "id": "2a9ae63f-8c5d-4701-b027-4031b0ceac7f",
   "metadata": {},
   "outputs": [
    {
     "data": {
      "text/plain": [
       "5"
      ]
     },
     "execution_count": 140,
     "metadata": {},
     "output_type": "execute_result"
    }
   ],
   "source": [
    "len(b)"
   ]
  },
  {
   "cell_type": "code",
   "execution_count": 141,
   "id": "02e074c8-a2d8-4c2f-8772-ab4d0baa172d",
   "metadata": {},
   "outputs": [
    {
     "data": {
      "text/plain": [
       "{'台中市', '台北市', '新北市', '桃園市', '高雄市'}"
      ]
     },
     "execution_count": 141,
     "metadata": {},
     "output_type": "execute_result"
    }
   ],
   "source": [
    "# 使用 myset 練習集合 - loop 方法\n",
    "myset = {\"台北市\", \"新北市\", \"桃園市\", \"台中市\", \"高雄市\"}\n",
    "myset"
   ]
  },
  {
   "cell_type": "code",
   "execution_count": 142,
   "id": "8d641c5c-8620-4cb6-8234-95dba53067f3",
   "metadata": {},
   "outputs": [
    {
     "data": {
      "text/plain": [
       "{'台中市', '台北市', '台南市', '新北市', '桃園市', '高雄市'}"
      ]
     },
     "execution_count": 142,
     "metadata": {},
     "output_type": "execute_result"
    }
   ],
   "source": [
    "# 集合新增元素 add, 因為集合是unordered, 不一定新增在最後一個\n",
    "myset = {\"台北市\", \"新北市\", \"桃園市\", \"台中市\", \"高雄市\"}\n",
    "myset.add(\"台南市\")\n",
    "myset"
   ]
  },
  {
   "cell_type": "code",
   "execution_count": 143,
   "id": "f91e78fc-a300-453c-950f-545cee507fdd",
   "metadata": {},
   "outputs": [
    {
     "data": {
      "text/plain": [
       "{'台中市', '台北市', '台南市', '新北市', '桃園市', '澎湖', '金門', '高雄市'}"
      ]
     },
     "execution_count": 143,
     "metadata": {},
     "output_type": "execute_result"
    }
   ],
   "source": [
    "# 集合新增集合\n",
    "myset.update({\"澎湖\", \"金門\"})\n",
    "myset"
   ]
  },
  {
   "cell_type": "code",
   "execution_count": 144,
   "id": "9e21ff51-82eb-47fa-bf6c-f16db0ff2758",
   "metadata": {},
   "outputs": [
    {
     "data": {
      "text/plain": [
       "{'台中市', '台北市', '台南市', '新北市', '桃園市', '金門', '高雄市'}"
      ]
     },
     "execution_count": 144,
     "metadata": {},
     "output_type": "execute_result"
    }
   ],
   "source": [
    "# 刪除指定元素\n",
    "myset.remove(\"澎湖\")\n",
    "myset"
   ]
  },
  {
   "cell_type": "code",
   "execution_count": 145,
   "id": "e0ae70bb-b685-4fac-a36d-0a1bf7a14067",
   "metadata": {},
   "outputs": [
    {
     "data": {
      "text/plain": [
       "set()"
      ]
     },
     "execution_count": 145,
     "metadata": {},
     "output_type": "execute_result"
    }
   ],
   "source": [
    "# 清空物件兀素,物件仍存在記憶體\n",
    "myset.clear()\n",
    "myset"
   ]
  },
  {
   "cell_type": "code",
   "execution_count": 146,
   "id": "f7b08b56-b6bf-4250-9710-967c375a94e3",
   "metadata": {},
   "outputs": [],
   "source": [
    "# 刪除物件,物件不存在記憶體\n",
    "del myset\n",
    "\n",
    "# NameError: name 'myset' is not defined\n",
    "# myset"
   ]
  },
  {
   "cell_type": "code",
   "execution_count": 147,
   "id": "b633a9b7-7542-4c7c-8b4e-bf7bbc0427a5",
   "metadata": {},
   "outputs": [
    {
     "data": {
      "text/plain": [
       "{1, 3, 5}"
      ]
     },
     "execution_count": 147,
     "metadata": {},
     "output_type": "execute_result"
    }
   ],
   "source": [
    "# 集合運算\n",
    "x = {1,2,3,4,5}\n",
    "y = {1,3,5,7}\n",
    "\n",
    "x & y # {1, 3, 5} # 交集"
   ]
  },
  {
   "cell_type": "code",
   "execution_count": 148,
   "id": "0c4852f7-9d32-495e-81fa-3a519f44755d",
   "metadata": {},
   "outputs": [
    {
     "data": {
      "text/plain": [
       "{1, 3, 5}"
      ]
     },
     "execution_count": 148,
     "metadata": {},
     "output_type": "execute_result"
    }
   ],
   "source": [
    "x.intersection(y) # 交集"
   ]
  },
  {
   "cell_type": "code",
   "execution_count": 149,
   "id": "04208fdb-54c5-474f-b968-cd8061aa4397",
   "metadata": {},
   "outputs": [
    {
     "data": {
      "text/plain": [
       "{1, 2, 3, 4, 5, 7}"
      ]
     },
     "execution_count": 149,
     "metadata": {},
     "output_type": "execute_result"
    }
   ],
   "source": [
    "x | y # {1, 2, 3, 4, 5, 7} # 聯集"
   ]
  },
  {
   "cell_type": "code",
   "execution_count": 150,
   "id": "2ce04136-3ba0-4289-b5e1-990c91fce4db",
   "metadata": {},
   "outputs": [
    {
     "data": {
      "text/plain": [
       "{1, 2, 3, 4, 5, 7}"
      ]
     },
     "execution_count": 150,
     "metadata": {},
     "output_type": "execute_result"
    }
   ],
   "source": [
    "x.union(y) # 聯集"
   ]
  },
  {
   "cell_type": "code",
   "execution_count": 151,
   "id": "ada66141-a69a-4d63-816a-c2237e75ddae",
   "metadata": {},
   "outputs": [
    {
     "data": {
      "text/plain": [
       "{2, 4, 7}"
      ]
     },
     "execution_count": 151,
     "metadata": {},
     "output_type": "execute_result"
    }
   ],
   "source": [
    "x ^ y # {2, 4, 7} # XOR 互斥"
   ]
  },
  {
   "cell_type": "code",
   "execution_count": 152,
   "id": "9186bae3-d324-4841-926e-26dedafb300c",
   "metadata": {},
   "outputs": [
    {
     "data": {
      "text/plain": [
       "{2, 4}"
      ]
     },
     "execution_count": 152,
     "metadata": {},
     "output_type": "execute_result"
    }
   ],
   "source": [
    "x - y # 差集"
   ]
  },
  {
   "cell_type": "code",
   "execution_count": 153,
   "id": "14d94aa8-b9e0-472b-9b44-aebd219216d9",
   "metadata": {},
   "outputs": [
    {
     "data": {
      "text/plain": [
       "{2, 4}"
      ]
     },
     "execution_count": 153,
     "metadata": {},
     "output_type": "execute_result"
    }
   ],
   "source": [
    "x.difference(y) # 差集"
   ]
  },
  {
   "cell_type": "markdown",
   "id": "99620560-4bed-4530-a8df-d945724a1a9d",
   "metadata": {},
   "source": [
    "# 4. Dict 字典"
   ]
  },
  {
   "cell_type": "code",
   "execution_count": 154,
   "id": "22599b24-908a-452c-8c59-c6a78c33e528",
   "metadata": {},
   "outputs": [
    {
     "name": "stdout",
     "output_type": "stream",
     "text": [
      "{'language': 'Python', 'designer': 'Guido van Rossum', 'year': 1991}\n"
     ]
    },
    {
     "data": {
      "text/plain": [
       "dict"
      ]
     },
     "execution_count": 154,
     "metadata": {},
     "output_type": "execute_result"
    }
   ],
   "source": [
    "# 宣告字典\n",
    "mydict = {\n",
    "    \"language\": \"Python\",\n",
    "    \"designer\": \"Guido van Rossum\",\n",
    "    \"year\": 1991\n",
    "    }\n",
    "\n",
    "print(mydict)\n",
    "type(mydict) # dict"
   ]
  },
  {
   "cell_type": "code",
   "execution_count": 155,
   "id": "10a82065-de65-4f80-8750-434d689a365e",
   "metadata": {},
   "outputs": [
    {
     "name": "stdout",
     "output_type": "stream",
     "text": [
      "{'language': 'Python', 'designer': 'Guido van Rossum', 'year': 2021}\n"
     ]
    }
   ],
   "source": [
    "# 重複 key, 只保留1個\n",
    "mydict1 = {\n",
    "    \"language\": \"Python\",\n",
    "    \"designer\": \"Guido van Rossum\",\n",
    "    \"year\": 1991,\n",
    "    \"year\": 2021\n",
    "    }\n",
    "\n",
    "print(mydict1)"
   ]
  },
  {
   "cell_type": "code",
   "execution_count": 156,
   "id": "0a322ae2-efbe-4141-a462-b4c848eea115",
   "metadata": {},
   "outputs": [
    {
     "data": {
      "text/plain": [
       "{'uid': 168, 'login': 'marvelous', 'name': 'Alan Lee'}"
      ]
     },
     "execution_count": 156,
     "metadata": {},
     "output_type": "execute_result"
    }
   ],
   "source": [
    "# 字典存取元素\n",
    "b = {\n",
    "     \"uid\": 168, \n",
    "     \"login\": \"marvelous\", \n",
    "     \"name\" : 'Alan Lee'\n",
    "     }\n",
    "b"
   ]
  },
  {
   "cell_type": "code",
   "execution_count": 157,
   "id": "0cabc9a8-cb0b-4511-b581-c796a7246c1d",
   "metadata": {},
   "outputs": [
    {
     "name": "stdout",
     "output_type": "stream",
     "text": [
      "dict_keys(['uid', 'login', 'name'])\n"
     ]
    }
   ],
   "source": [
    "# dict 取得所有 keys\n",
    "mykeys = b.keys()\n",
    "print(mykeys)"
   ]
  },
  {
   "cell_type": "code",
   "execution_count": 158,
   "id": "69c89f14-0077-4458-ad68-eb97cd6060c3",
   "metadata": {},
   "outputs": [
    {
     "name": "stdout",
     "output_type": "stream",
     "text": [
      "dict_values([168, 'marvelous', 'Alan Lee'])\n"
     ]
    }
   ],
   "source": [
    "# dict 取得所有 values\n",
    "myvalues = b.values()\n",
    "print(myvalues)"
   ]
  },
  {
   "cell_type": "code",
   "execution_count": 159,
   "id": "1c5f48ff-fa0e-4501-9e1a-480f6182531b",
   "metadata": {},
   "outputs": [
    {
     "name": "stdout",
     "output_type": "stream",
     "text": [
      "168\n"
     ]
    }
   ],
   "source": [
    "# dict 取得key的值\n",
    "u = b[\"uid\"] # 168\n",
    "print(u)"
   ]
  },
  {
   "cell_type": "code",
   "execution_count": 160,
   "id": "a9d774f2-22cf-4057-9030-4aaf21184fa7",
   "metadata": {},
   "outputs": [
    {
     "name": "stdout",
     "output_type": "stream",
     "text": [
      "{'uid': 123, 'login': 'marvelous', 'name': 'Alan Lee'}\n"
     ]
    }
   ],
   "source": [
    "# dict 更新值\n",
    "b.update({\"uid\": 123})\n",
    "print(b)"
   ]
  },
  {
   "cell_type": "code",
   "execution_count": 161,
   "id": "447d8012-8ac6-4f70-938b-c7be5f039298",
   "metadata": {},
   "outputs": [
    {
     "name": "stdout",
     "output_type": "stream",
     "text": [
      "{'uid': 123, 'login': 'marvelous', 'name': 'Alan Lee', 'shell': '/bin/sh'}\n"
     ]
    }
   ],
   "source": [
    "# dict 新增元素\n",
    "b[\"shell\"] = \"/bin/sh\"\n",
    "print(b)"
   ]
  },
  {
   "cell_type": "code",
   "execution_count": 162,
   "id": "c59549e3-e530-462f-a4ac-7c691221c1d7",
   "metadata": {},
   "outputs": [
    {
     "name": "stdout",
     "output_type": "stream",
     "text": [
      "{'uid': 123, 'login': 'marvelous', 'name': 'Alan Lee'}\n"
     ]
    }
   ],
   "source": [
    "# dict 刪除元素 - pop\n",
    "b.pop(\"shell\")\n",
    "print(b)"
   ]
  },
  {
   "cell_type": "code",
   "execution_count": 163,
   "id": "6c22f5ea-8d35-4630-b16a-8eb673c30f33",
   "metadata": {},
   "outputs": [
    {
     "name": "stdout",
     "output_type": "stream",
     "text": [
      "{'uid': 123, 'name': 'Alan Lee'}\n"
     ]
    }
   ],
   "source": [
    "# dict 刪除元素 - del\n",
    "del b[\"login\"]\n",
    "print(b)"
   ]
  },
  {
   "cell_type": "code",
   "execution_count": 164,
   "id": "59a9b869-a41c-438b-84c5-adbeda6742b2",
   "metadata": {},
   "outputs": [
    {
     "data": {
      "text/plain": [
       "{}"
      ]
     },
     "execution_count": 164,
     "metadata": {},
     "output_type": "execute_result"
    }
   ],
   "source": [
    "# dict 清空整個物件 - clear\n",
    "b.clear()\n",
    "b"
   ]
  },
  {
   "cell_type": "code",
   "execution_count": 165,
   "id": "9a0e4383-7f89-4544-bcc7-6bc842bd80a9",
   "metadata": {},
   "outputs": [],
   "source": [
    "# dict 刪除整個物件 -del\n",
    "del b\n",
    "# b"
   ]
  },
  {
   "cell_type": "code",
   "execution_count": 166,
   "id": "c3ea7e87-9e93-44be-a2cc-9cfec23544fc",
   "metadata": {},
   "outputs": [
    {
     "data": {
      "text/plain": [
       "{'uid': 168, 'login': 'marvelous', 'name': 'Alan Lee'}"
      ]
     },
     "execution_count": 166,
     "metadata": {},
     "output_type": "execute_result"
    }
   ],
   "source": [
    "# 字典複製-使用 copy\n",
    "mydict = {\n",
    "    \"uid\": 168, \n",
    "    \"login\": \"marvelous\", \n",
    "    \"name\" : 'Alan Lee'\n",
    "    }\n",
    "mydict"
   ]
  },
  {
   "cell_type": "code",
   "execution_count": 167,
   "id": "c4132d67-94c2-4775-b6cb-d401e246ea86",
   "metadata": {},
   "outputs": [
    {
     "name": "stdout",
     "output_type": "stream",
     "text": [
      "{'uid': 168, 'login': 'marvelous', 'name': 'Alan Lee'}\n",
      "{'uid': 168, 'login': 'marvelous', 'name': 'Alan Lee'}\n"
     ]
    },
    {
     "data": {
      "text/plain": [
       "True"
      ]
     },
     "execution_count": 167,
     "metadata": {},
     "output_type": "execute_result"
    }
   ],
   "source": [
    "mydict2 = mydict.copy()\n",
    "print(mydict2)\n",
    "\n",
    "# 字典複製-使用 dict\n",
    "mydict3 = dict(mydict)\n",
    "print(mydict3)\n",
    "\n",
    "mydict2 == mydict3 # True"
   ]
  },
  {
   "cell_type": "code",
   "execution_count": 168,
   "id": "d8e88afa-b1ec-472a-a233-3963d4d71627",
   "metadata": {},
   "outputs": [
    {
     "data": {
      "text/plain": [
       "{'code1': {'name': 'Fortran77', 'year': 1977},\n",
       " 'code2': {'name': 'Python', 'year': 1991},\n",
       " 'code3': {'name': 'R', 'year': 2000}}"
      ]
     },
     "execution_count": 168,
     "metadata": {},
     "output_type": "execute_result"
    }
   ],
   "source": [
    "# 巢狀字典 (Nested Dictionaries)\n",
    "# 方法1 一次建立一個巢狀字典\n",
    "mycodes = {\n",
    "    \"code1\" : {\n",
    "         \"name\" : \"Fortran77\",\n",
    "         \"year\" : 1977\n",
    "         },\n",
    "    \"code2\" : {\n",
    "        \"name\" : \"Python\",\n",
    "        \"year\" : 1991\n",
    "        },\n",
    "    \"code3\" : {\n",
    "        \"name\" : \"R\",\n",
    "        \"year\" : 2000\n",
    "        }\n",
    "    }\n",
    "\n",
    "mycodes"
   ]
  },
  {
   "cell_type": "code",
   "execution_count": 169,
   "id": "30b923ea-e3b4-4326-9a0b-057de0ea40ca",
   "metadata": {},
   "outputs": [
    {
     "data": {
      "text/plain": [
       "{'程式1': {'name': 'Fortran77', 'year': 1977},\n",
       " '程式2': {'name': 'Python', 'year': 1991},\n",
       " '程式3': {'name': 'R', 'year': 2000}}"
      ]
     },
     "execution_count": 169,
     "metadata": {},
     "output_type": "execute_result"
    }
   ],
   "source": [
    "# 方法2 建立三個字典,再合併為一項字典\n",
    "mycode1 = {\n",
    "    \"name\" : \"Fortran77\",\n",
    "    \"year\" : 1977\n",
    "    }\n",
    "\n",
    "mycode2 = {\n",
    "    \"name\" : \"Python\",\n",
    "    \"year\" : 1991\n",
    "    }\n",
    "\n",
    "mycode3 = {\n",
    "    \"name\" : \"R\",\n",
    "    \"year\" : 2000\n",
    "    }\n",
    "\n",
    "mycodes2 = {\n",
    "  \"程式1\" : mycode1,\n",
    "  \"程式2\" : mycode2,\n",
    "  \"程式3\" : mycode3\n",
    "}\n",
    "\n",
    "mycodes2"
   ]
  },
  {
   "cell_type": "code",
   "execution_count": 170,
   "id": "857671f1-3a3c-461a-8556-e269b9ed1825",
   "metadata": {},
   "outputs": [],
   "source": [
    "# 實作練習\n",
    "# 將 list 轉換為 dictionary\n",
    "# 輸入: lst = ['a', 1, 'b', 2, 'c', 3]\n",
    "# 結果: {'a': 1, 'b': 2, 'c': 3}"
   ]
  },
  {
   "cell_type": "markdown",
   "id": "213b5493-41f9-44cd-b1c0-22e72fbbfc39",
   "metadata": {},
   "source": [
    "**模組 Modules**"
   ]
  },
  {
   "cell_type": "code",
   "execution_count": 171,
   "id": "c533c67d-f65c-4d50-842a-6c8afb214f39",
   "metadata": {},
   "outputs": [
    {
     "data": {
      "text/plain": [
       "3.0"
      ]
     },
     "execution_count": 171,
     "metadata": {},
     "output_type": "execute_result"
    }
   ],
   "source": [
    "# 使用模組\n",
    "import math\n",
    "math.sqrt(9)"
   ]
  },
  {
   "cell_type": "code",
   "execution_count": 172,
   "id": "2ca075dc-a8ca-4c67-8e61-3783323d05fd",
   "metadata": {},
   "outputs": [
    {
     "data": {
      "text/plain": [
       "3.0"
      ]
     },
     "execution_count": 172,
     "metadata": {},
     "output_type": "execute_result"
    }
   ],
   "source": [
    "from math import sqrt\n",
    "sqrt(9)"
   ]
  },
  {
   "cell_type": "code",
   "execution_count": 173,
   "id": "790b8d46-09ed-4474-8366-bcfa4a4d7029",
   "metadata": {},
   "outputs": [
    {
     "data": {
      "text/plain": [
       "['C:\\\\Users\\\\rwepa\\\\anaconda3\\\\python312.zip',\n",
       " 'C:\\\\Users\\\\rwepa\\\\anaconda3\\\\DLLs',\n",
       " 'C:\\\\Users\\\\rwepa\\\\anaconda3\\\\Lib',\n",
       " 'C:\\\\Users\\\\rwepa\\\\anaconda3',\n",
       " '',\n",
       " 'C:\\\\Users\\\\rwepa\\\\anaconda3\\\\Lib\\\\site-packages',\n",
       " 'C:\\\\Users\\\\rwepa\\\\anaconda3\\\\Lib\\\\site-packages\\\\win32',\n",
       " 'C:\\\\Users\\\\rwepa\\\\anaconda3\\\\Lib\\\\site-packages\\\\win32\\\\lib',\n",
       " 'C:\\\\Users\\\\rwepa\\\\anaconda3\\\\Lib\\\\site-packages\\\\Pythonwin',\n",
       " 'C:\\\\Users\\\\rwepa\\\\anaconda3\\\\Lib\\\\site-packages\\\\setuptools\\\\_vendor']"
      ]
     },
     "execution_count": 173,
     "metadata": {},
     "output_type": "execute_result"
    }
   ],
   "source": [
    "# 模組的搜尋路徑\n",
    "import sys\n",
    "sys.path\n",
    "# '' 表示現行目錄"
   ]
  },
  {
   "cell_type": "code",
   "execution_count": 174,
   "id": "06088eec-5e45-4b76-94a2-6399a4a759df",
   "metadata": {},
   "outputs": [
    {
     "data": {
      "text/plain": [
       "['$Recycle.Bin',\n",
       " 'Documents and Settings',\n",
       " 'DumpStack.log.tmp',\n",
       " 'hiberfil.sys',\n",
       " 'Hncb',\n",
       " 'LJP1100_P1560_P1600_Full_Solution',\n",
       " 'mydata',\n",
       " 'OEM',\n",
       " 'OneDriveTemp',\n",
       " 'PageFile.sys',\n",
       " 'PerfLogs',\n",
       " 'Program Files',\n",
       " 'Program Files (x86)',\n",
       " 'ProgramData',\n",
       " 'rdata',\n",
       " 'Recovery',\n",
       " 'rtools44',\n",
       " 'swapfile.sys',\n",
       " 'System Volume Information',\n",
       " 'Users',\n",
       " 'Windows']"
      ]
     },
     "execution_count": 174,
     "metadata": {},
     "output_type": "execute_result"
    }
   ],
   "source": [
    "# 切換工作目錄\n",
    "import os\n",
    "os.getcwd() # 讀取工作目錄\n",
    "os.chdir(\"C:/\") # 變更工作目錄\n",
    "os.getcwd()\n",
    "os.listdir(os.getcwd()) # 顯示檔案清單"
   ]
  },
  {
   "cell_type": "markdown",
   "id": "d10da5f5-d7a5-4fd2-a1a4-5e956bfa444c",
   "metadata": {},
   "source": [
    "# 3.4 使用NumPy模組與reshape應用"
   ]
  },
  {
   "cell_type": "code",
   "execution_count": 175,
   "id": "18031d2e-c9ae-4ffa-bd84-13a9cb4ffd7f",
   "metadata": {},
   "outputs": [
    {
     "name": "stdout",
     "output_type": "stream",
     "text": [
      "[1 2 3 4 5]\n",
      "[1. 2. 3. 4. 5.]\n",
      "<class 'numpy.ndarray'>\n",
      "<class 'numpy.ndarray'>\n"
     ]
    }
   ],
   "source": [
    "import numpy as np\n",
    "\n",
    "####################\n",
    "# 一維陣列\n",
    "##############################\n",
    "\n",
    "# 使用 tuple 或 list 建立一維陣列\n",
    "a = np.array([1, 2, 3, 4, 5])\n",
    "b = np.array((1, 2, 3, 4, 5), dtype=float) \n",
    "\n",
    "print(a)\n",
    "print(b)\n",
    "print(type(a))\n",
    "print(type(b))"
   ]
  },
  {
   "cell_type": "code",
   "execution_count": 176,
   "id": "b41a9230-91d1-4768-9885-a00316ca4f7b",
   "metadata": {},
   "outputs": [
    {
     "name": "stdout",
     "output_type": "stream",
     "text": [
      "1 2 3 4\n"
     ]
    }
   ],
   "source": [
    "print(a[0], a[1], a[2], a[3])"
   ]
  },
  {
   "cell_type": "code",
   "execution_count": 177,
   "id": "a828f089-6e3c-44b6-8191-ea4424587e84",
   "metadata": {},
   "outputs": [
    {
     "name": "stdout",
     "output_type": "stream",
     "text": [
      "[5. 2. 3. 4. 5.]\n"
     ]
    }
   ],
   "source": [
    "b[0] = 5    \n",
    "print(b) "
   ]
  },
  {
   "cell_type": "code",
   "execution_count": 178,
   "id": "df574953-e9ec-4843-a013-d5b54340c132",
   "metadata": {},
   "outputs": [
    {
     "name": "stdout",
     "output_type": "stream",
     "text": [
      "[5. 2. 3. 4. 0.]\n"
     ]
    }
   ],
   "source": [
    "b[4] = 0\n",
    "print(b)"
   ]
  },
  {
   "cell_type": "code",
   "execution_count": 179,
   "id": "fb3d1548-4242-45e7-9897-9d2c303f020c",
   "metadata": {},
   "outputs": [
    {
     "name": "stdout",
     "output_type": "stream",
     "text": [
      "<class 'numpy.ndarray'>\n",
      "1 2 3\n",
      "4 5 6\n"
     ]
    }
   ],
   "source": [
    "# 二維陣列\n",
    "\n",
    "# 使用巢狀清單建立二維陣列\n",
    "# axis 0:列, axis 1:行\n",
    "a = np.array([[1,2,3],[4,5,6]])\n",
    "a \n",
    "print(type(a))\n",
    "print(a[0, 0], a[0, 1], a[0, 2])\n",
    "print(a[1, 0], a[1, 1], a[1, 2])"
   ]
  },
  {
   "cell_type": "code",
   "execution_count": 180,
   "id": "ea4979cf-b10c-41e9-8674-65c4cc58027e",
   "metadata": {},
   "outputs": [
    {
     "name": "stdout",
     "output_type": "stream",
     "text": [
      "[[6 2 3]\n",
      " [4 5 1]]\n"
     ]
    }
   ],
   "source": [
    "a[0, 0] = 6\n",
    "a[1, 2] = 1\n",
    "print(a)"
   ]
  },
  {
   "cell_type": "code",
   "execution_count": 181,
   "id": "fe3ae94f-dfbb-4e4c-bfad-54a3de91cf72",
   "metadata": {},
   "outputs": [
    {
     "name": "stdout",
     "output_type": "stream",
     "text": [
      "[0 1 2 3 4]\n"
     ]
    }
   ],
   "source": [
    "# np.arrange\n",
    "a = np.arange(5) # [0 1 2 3 4]\n",
    "print(a) "
   ]
  },
  {
   "cell_type": "code",
   "execution_count": 182,
   "id": "b8d81a42-c792-481d-b62b-70d5e318167a",
   "metadata": {},
   "outputs": [
    {
     "name": "stdout",
     "output_type": "stream",
     "text": [
      "[1 3 5 7 9]\n"
     ]
    }
   ],
   "source": [
    "b = np.arange(1, 11, 2) # 1<= x < 11\n",
    "print(b) # [1 3 5 7 9]"
   ]
  },
  {
   "cell_type": "code",
   "execution_count": 183,
   "id": "48bc26be-cfa9-4523-bfd9-8c57e895b836",
   "metadata": {},
   "outputs": [
    {
     "data": {
      "text/plain": [
       "array([0., 0., 0., 0., 0.])"
      ]
     },
     "execution_count": 183,
     "metadata": {},
     "output_type": "execute_result"
    }
   ],
   "source": [
    "# np.zeros\n",
    "np.zeros(5) # array([0., 0., 0., 0., 0.])"
   ]
  },
  {
   "cell_type": "code",
   "execution_count": 184,
   "id": "4d0755af-4173-418b-b301-21beb75df238",
   "metadata": {},
   "outputs": [
    {
     "data": {
      "text/plain": [
       "array([0, 0, 0, 0, 0])"
      ]
     },
     "execution_count": 184,
     "metadata": {},
     "output_type": "execute_result"
    }
   ],
   "source": [
    "np.zeros(5, dtype=int) # array([0, 0, 0, 0, 0])"
   ]
  },
  {
   "cell_type": "code",
   "execution_count": 185,
   "id": "428e0c77-0836-43ca-a047-ea33e11c5034",
   "metadata": {},
   "outputs": [
    {
     "data": {
      "text/plain": [
       "array([[0., 0.],\n",
       "       [0., 0.],\n",
       "       [0., 0.]])"
      ]
     },
     "execution_count": 185,
     "metadata": {},
     "output_type": "execute_result"
    }
   ],
   "source": [
    "np.zeros((3, 2)) # 建立3列,2行皆為零的陣列\n",
    "# array([[0., 0.],\n",
    "#        [0., 0.],\n",
    "#        [0., 0.]])"
   ]
  },
  {
   "cell_type": "code",
   "execution_count": 186,
   "id": "419b186e-a050-43f5-a438-0bcfc3613dd8",
   "metadata": {},
   "outputs": [
    {
     "data": {
      "text/plain": [
       "array([1., 1., 1.])"
      ]
     },
     "execution_count": 186,
     "metadata": {},
     "output_type": "execute_result"
    }
   ],
   "source": [
    "# np.ones \n",
    "np.ones(3) # array([1., 1., 1.])"
   ]
  },
  {
   "cell_type": "code",
   "execution_count": 187,
   "id": "501fbdad-3c82-4a23-b49d-cc21458c49a1",
   "metadata": {},
   "outputs": [
    {
     "data": {
      "text/plain": [
       "array([[99, 99, 99, 99],\n",
       "       [99, 99, 99, 99],\n",
       "       [99, 99, 99, 99]])"
      ]
     },
     "execution_count": 187,
     "metadata": {},
     "output_type": "execute_result"
    }
   ],
   "source": [
    "# np.full\n",
    "np.full(shape = (3, 4), fill_value = 99)\n",
    "# array([[99, 99, 99, 99],\n",
    "#        [99, 99, 99, 99],\n",
    "#        [99, 99, 99, 99]])"
   ]
  },
  {
   "cell_type": "code",
   "execution_count": 188,
   "id": "b2bada46-74d6-40db-97f6-f203e5c321c2",
   "metadata": {},
   "outputs": [
    {
     "data": {
      "text/plain": [
       "array([[1, 2, 3],\n",
       "       [4, 5, 6]])"
      ]
     },
     "execution_count": 188,
     "metadata": {},
     "output_type": "execute_result"
    }
   ],
   "source": [
    "# zeros_like\n",
    "a = np.array([[1,2,3], [4,5,6]])\n",
    "a\n",
    "# array([[1, 2, 3],\n",
    "#        [4, 5, 6]])"
   ]
  },
  {
   "cell_type": "code",
   "execution_count": 189,
   "id": "86519c99-71d3-4219-827e-aa787f87bb86",
   "metadata": {},
   "outputs": [
    {
     "data": {
      "text/plain": [
       "array([[0, 0, 0],\n",
       "       [0, 0, 0]])"
      ]
     },
     "execution_count": 189,
     "metadata": {},
     "output_type": "execute_result"
    }
   ],
   "source": [
    "np.zeros_like(a)\n",
    "# [[0 0 0]\n",
    "#  [0 0 0]]"
   ]
  },
  {
   "cell_type": "code",
   "execution_count": 190,
   "id": "e2156656-1b6d-440c-a1a4-723b1f9f93c1",
   "metadata": {},
   "outputs": [
    {
     "data": {
      "text/plain": [
       "array([[1, 1, 1],\n",
       "       [1, 1, 1]])"
      ]
     },
     "execution_count": 190,
     "metadata": {},
     "output_type": "execute_result"
    }
   ],
   "source": [
    "# ones_like\n",
    "np.ones_like(a)\n",
    "# [[1 1 1]\n",
    "#  [1 1 1]]\n",
    "\n",
    "##############################"
   ]
  },
  {
   "cell_type": "markdown",
   "id": "f02f6dfe-2615-4ce6-8607-a1a7c573278f",
   "metadata": {},
   "source": [
    "**陣列儲存與載入**"
   ]
  },
  {
   "cell_type": "code",
   "execution_count": 191,
   "id": "b2dd396d-7b6b-4982-a51b-b90d2a586c55",
   "metadata": {},
   "outputs": [
    {
     "data": {
      "text/plain": [
       "'\\n# 實作練習\\n# 使用 save 將 Numpy 陣列 a 儲存成外部檔案\\nimport numpy as np\\n\\noutputfile = \\'myarray.npy\\'\\nwith open(outputfile, \\'wb\\') as fp:\\n    np.save(fp, a)\\n\\n# 使用 load 將外部檔案匯入至Numpy陣列\\noutputfile = \"myarray.npy\"\\nwith open(outputfile, \\'rb\\') as fp:\\n    mydata = np.load(fp)\\nprint(mydata)\\n'"
      ]
     },
     "execution_count": 191,
     "metadata": {},
     "output_type": "execute_result"
    }
   ],
   "source": [
    "# 使用 Spyder 練習\n",
    "\"\"\"\n",
    "# 實作練習\n",
    "# 使用 save 將 Numpy 陣列 a 儲存成外部檔案\n",
    "import numpy as np\n",
    "\n",
    "outputfile = 'myarray.npy'\n",
    "with open(outputfile, 'wb') as fp:\n",
    "    np.save(fp, a)\n",
    "\n",
    "# 使用 load 將外部檔案匯入至Numpy陣列\n",
    "outputfile = \"myarray.npy\"\n",
    "with open(outputfile, 'rb') as fp:\n",
    "    mydata = np.load(fp)\n",
    "print(mydata)\n",
    "\"\"\""
   ]
  },
  {
   "cell_type": "markdown",
   "id": "a059a663-cfe2-4db6-9804-8593c0ca7ce0",
   "metadata": {},
   "source": [
    "**常數 Constants**"
   ]
  },
  {
   "cell_type": "code",
   "execution_count": 192,
   "id": "a5e6d7d1-dfa7-4823-a0db-0a53b934befe",
   "metadata": {},
   "outputs": [
    {
     "name": "stdout",
     "output_type": "stream",
     "text": [
      "inf\n"
     ]
    }
   ],
   "source": [
    "import numpy as np\n",
    "\n",
    "x = np.Inf # 無限大 inf\n",
    "print(x)"
   ]
  },
  {
   "cell_type": "code",
   "execution_count": 193,
   "id": "53ab5fac-05bb-47de-b5dc-065e956f1b1b",
   "metadata": {},
   "outputs": [
    {
     "name": "stdout",
     "output_type": "stream",
     "text": [
      "nan\n"
     ]
    }
   ],
   "source": [
    "y = np.NAN # nan\n",
    "print(y)"
   ]
  },
  {
   "cell_type": "code",
   "execution_count": 194,
   "id": "4a76e1e8-7e11-44ad-a333-95124d614af8",
   "metadata": {},
   "outputs": [
    {
     "data": {
      "text/plain": [
       "nan"
      ]
     },
     "execution_count": 194,
     "metadata": {},
     "output_type": "execute_result"
    }
   ],
   "source": [
    "# 新版本使用 nan\n",
    "np.nan"
   ]
  },
  {
   "cell_type": "code",
   "execution_count": 195,
   "id": "b352f0af-43b8-43be-8d1e-0c939fe8779f",
   "metadata": {},
   "outputs": [
    {
     "data": {
      "text/plain": [
       "3.141592653589793"
      ]
     },
     "execution_count": 195,
     "metadata": {},
     "output_type": "execute_result"
    }
   ],
   "source": [
    "np.pi # 3.141592653589793"
   ]
  },
  {
   "cell_type": "code",
   "execution_count": 196,
   "id": "1644b3ba-c19b-4039-9a37-93d03d2b6158",
   "metadata": {},
   "outputs": [
    {
     "data": {
      "text/plain": [
       "2.718281828459045"
      ]
     },
     "execution_count": 196,
     "metadata": {},
     "output_type": "execute_result"
    }
   ],
   "source": [
    "# Euler’s constant, base of natural logarithms\n",
    "# Napier’s constant(蘇格蘭數學家約翰·納皮爾)\n",
    "np.e # 2.718281828459045"
   ]
  },
  {
   "cell_type": "code",
   "execution_count": 197,
   "id": "d077e132-20e5-4727-b39f-aa53b2660b01",
   "metadata": {},
   "outputs": [
    {
     "data": {
      "text/plain": [
       "array([0.5       , 0.70710678, 0.8660254 , 1.        ])"
      ]
     },
     "execution_count": 197,
     "metadata": {},
     "output_type": "execute_result"
    }
   ],
   "source": [
    "# 三角函數\n",
    "# sin(30度) = sin(pi/6) = 0.5\n",
    "# sin(45度) = sqrt(2)/2 = 0.707\n",
    "# sin(60度) = sqrt(3)/2 = 0.866\n",
    "# sin(90度) = 1\n",
    "a = np.array([30, 45, 60, 90])\n",
    "np.sin(a*np.pi/180)"
   ]
  },
  {
   "cell_type": "code",
   "execution_count": 198,
   "id": "c1a14ff8-f6a3-4b2c-9fb5-29743127a0a6",
   "metadata": {},
   "outputs": [
    {
     "name": "stdout",
     "output_type": "stream",
     "text": [
      "0.6964691855978616\n"
     ]
    }
   ],
   "source": [
    "# 亂數\n",
    "import numpy as np\n",
    "\n",
    "np.random.seed(123) # 設定亂數種子, 須輸入 >= 1 的整數\n",
    "\n",
    "# random 產生0.0~1.0之間的1個亂數\n",
    "x1 = np.random.random()\n",
    "print(x1)"
   ]
  },
  {
   "cell_type": "code",
   "execution_count": 199,
   "id": "927a108c-8608-4645-b8c0-e62339c7f47a",
   "metadata": {},
   "outputs": [
    {
     "name": "stdout",
     "output_type": "stream",
     "text": [
      "[0.28613933 0.22685145 0.55131477]\n"
     ]
    }
   ],
   "source": [
    "# random 產生0.0~1.0之間的3個亂數\n",
    "x2 = np.random.random(3)\n",
    "print(x2)"
   ]
  },
  {
   "cell_type": "code",
   "execution_count": 200,
   "id": "0ab8a074-d6e8-4d35-a237-e321665e676b",
   "metadata": {},
   "outputs": [
    {
     "name": "stdout",
     "output_type": "stream",
     "text": [
      "0.7194689697855631\n"
     ]
    }
   ],
   "source": [
    "# rand 產生0.0~1.0之間的1個亂數\n",
    "x3 = np.random.rand()\n",
    "print(x3)"
   ]
  },
  {
   "cell_type": "code",
   "execution_count": 201,
   "id": "8be2db52-6d26-4d08-b715-f5ec6f33357e",
   "metadata": {},
   "outputs": [
    {
     "name": "stdout",
     "output_type": "stream",
     "text": [
      "[0.42310646 0.9807642  0.68482974]\n"
     ]
    }
   ],
   "source": [
    "# rand 產生0.0~1.0之間的3個亂數\n",
    "x4 = np.random.rand(3)\n",
    "print(x4)"
   ]
  },
  {
   "cell_type": "code",
   "execution_count": 202,
   "id": "e7140ced-6f3d-4f9e-a77f-8c0cb84183ae",
   "metadata": {},
   "outputs": [
    {
     "name": "stdout",
     "output_type": "stream",
     "text": [
      "[[0.4809319  0.39211752]\n",
      " [0.34317802 0.72904971]\n",
      " [0.43857224 0.0596779 ]]\n"
     ]
    }
   ],
   "source": [
    "# rand(row, column) 產生亂數值陣列\n",
    "x5 = np.random.rand(3, 2) # 3列,2行\n",
    "print(x5)"
   ]
  },
  {
   "cell_type": "code",
   "execution_count": 203,
   "id": "2a56a276-cc4d-4763-80be-06d2078339ed",
   "metadata": {},
   "outputs": [
    {
     "name": "stdout",
     "output_type": "stream",
     "text": [
      "5\n"
     ]
    }
   ],
   "source": [
    "# randint 產生 min 與 max 之間的整數亂數,不包括max\n",
    "# randint(max, size)\n",
    "\n",
    "# 建立 5~10之間的1個整數亂數\n",
    "x6 = np.random.randint(5, 10)\n",
    "print(x6)"
   ]
  },
  {
   "cell_type": "code",
   "execution_count": 204,
   "id": "5d1fde5b-6df7-49c7-8426-ab11955a067e",
   "metadata": {},
   "outputs": [
    {
     "name": "stdout",
     "output_type": "stream",
     "text": [
      "[1 5 2 8 4 3 5 8 3 5]\n"
     ]
    }
   ],
   "source": [
    "# randint(min, max, size), min <= x < max\n",
    "\n",
    "# 建立 1~11之間的10個整數亂數\n",
    "x7 = np.random.randint(1, 11, size=10)\n",
    "print(x7)"
   ]
  },
  {
   "cell_type": "code",
   "execution_count": 205,
   "id": "c62a8eef-75a4-4d60-baff-90c9280994de",
   "metadata": {},
   "outputs": [
    {
     "name": "stdout",
     "output_type": "stream",
     "text": [
      "[[ 9  1  8 10  4]\n",
      " [ 5  7  2  6  7]\n",
      " [ 3  2  9  4  6]\n",
      " [ 1  3  7  3  5]]\n"
     ]
    }
   ],
   "source": [
    "# 建立 1~11之間的4列5行陣列的整數亂數\n",
    "x8 = np.random.randint(1, 11, size=(4, 5))\n",
    "print(x8)"
   ]
  },
  {
   "cell_type": "code",
   "execution_count": 206,
   "id": "a66c1194-5989-4e0b-af8e-3e6f1a820576",
   "metadata": {},
   "outputs": [
    {
     "name": "stdout",
     "output_type": "stream",
     "text": [
      "[0.29822755 0.46437133 0.11822163]\n"
     ]
    }
   ],
   "source": [
    "# 標準常態分配隨機樣本\n",
    "# https://numpy.org/doc/stable/reference/random/generator.html\n",
    "\n",
    "from numpy import random\n",
    "\n",
    "# 舊版用法\n",
    "vals = random.standard_normal(3)\n",
    "print(vals)"
   ]
  },
  {
   "cell_type": "code",
   "execution_count": 207,
   "id": "3d3157c7-3fc1-407d-9644-38d5aab12327",
   "metadata": {},
   "outputs": [
    {
     "name": "stdout",
     "output_type": "stream",
     "text": [
      "[ 1.94369786  2.42320729 -1.26530807]\n"
     ]
    }
   ],
   "source": [
    "more_vals = random.standard_normal(3)\n",
    "print(more_vals)"
   ]
  },
  {
   "cell_type": "code",
   "execution_count": 208,
   "id": "3906b736-02e0-4321-a854-39bcbee4415e",
   "metadata": {},
   "outputs": [
    {
     "name": "stdout",
     "output_type": "stream",
     "text": [
      "[-0.37821592 -1.50330268  0.06131135]\n"
     ]
    }
   ],
   "source": [
    "# 新版用法\n",
    "from numpy.random import default_rng\n",
    "\n",
    "rng = default_rng()\n",
    "vals = rng.standard_normal(3)\n",
    "print(vals)"
   ]
  },
  {
   "cell_type": "code",
   "execution_count": 209,
   "id": "49a6f4e1-c3dd-426b-8d30-994e1ce48278",
   "metadata": {},
   "outputs": [
    {
     "name": "stdout",
     "output_type": "stream",
     "text": [
      "[-0.68362479 -1.1493593  -0.19296574]\n"
     ]
    }
   ],
   "source": [
    "more_vals = rng.standard_normal(3)\n",
    "print(more_vals)"
   ]
  },
  {
   "cell_type": "code",
   "execution_count": 210,
   "id": "80f2f393-d7a5-44f7-b098-bd5931ade8d6",
   "metadata": {},
   "outputs": [
    {
     "data": {
      "text/plain": [
       "array([0, 1, 2, 3, 4, 5])"
      ]
     },
     "execution_count": 210,
     "metadata": {},
     "output_type": "execute_result"
    }
   ],
   "source": [
    "# 陣列的屬性\n",
    "\n",
    "import numpy as np\n",
    "\n",
    "a = np.array([0,1,2,3,4,5])\n",
    "a"
   ]
  },
  {
   "cell_type": "code",
   "execution_count": 211,
   "id": "cb7d846f-7369-4f68-93ab-15927b075ec7",
   "metadata": {},
   "outputs": [
    {
     "data": {
      "text/plain": [
       "dtype('int32')"
      ]
     },
     "execution_count": 211,
     "metadata": {},
     "output_type": "execute_result"
    }
   ],
   "source": [
    "a.dtype    # dtype('int32')"
   ]
  },
  {
   "cell_type": "code",
   "execution_count": 212,
   "id": "ae02479d-256e-43c3-9b5d-78fd1e129323",
   "metadata": {},
   "outputs": [
    {
     "data": {
      "text/plain": [
       "6"
      ]
     },
     "execution_count": 212,
     "metadata": {},
     "output_type": "execute_result"
    }
   ],
   "source": [
    "a.size     # 6"
   ]
  },
  {
   "cell_type": "code",
   "execution_count": 213,
   "id": "df649096-00fb-43fe-b27a-997c91e35b9f",
   "metadata": {},
   "outputs": [
    {
     "data": {
      "text/plain": [
       "1"
      ]
     },
     "execution_count": 213,
     "metadata": {},
     "output_type": "execute_result"
    }
   ],
   "source": [
    "a.ndim     # 1"
   ]
  },
  {
   "cell_type": "code",
   "execution_count": 214,
   "id": "6a4201a9-f4ea-4add-9faa-d69acada9fba",
   "metadata": {},
   "outputs": [
    {
     "data": {
      "text/plain": [
       "(6,)"
      ]
     },
     "execution_count": 214,
     "metadata": {},
     "output_type": "execute_result"
    }
   ],
   "source": [
    "a.shape    # (6,)"
   ]
  },
  {
   "cell_type": "code",
   "execution_count": 215,
   "id": "249b50cc-6787-485f-8155-735297f373a9",
   "metadata": {},
   "outputs": [
    {
     "data": {
      "text/plain": [
       "4"
      ]
     },
     "execution_count": 215,
     "metadata": {},
     "output_type": "execute_result"
    }
   ],
   "source": [
    "a.itemsize # 4 bytes"
   ]
  },
  {
   "cell_type": "code",
   "execution_count": 216,
   "id": "0ba7878d-d669-4076-9472-2cff70e706fc",
   "metadata": {},
   "outputs": [
    {
     "data": {
      "text/plain": [
       "24"
      ]
     },
     "execution_count": 216,
     "metadata": {},
     "output_type": "execute_result"
    }
   ],
   "source": [
    "a.nbytes   # 24"
   ]
  },
  {
   "cell_type": "code",
   "execution_count": 217,
   "id": "79a6c6c4-d23d-49a0-813b-0dc8ab60c0d8",
   "metadata": {},
   "outputs": [
    {
     "data": {
      "text/plain": [
       "array([[ 1.,  2.,  3.,  4.],\n",
       "       [ 4.,  5.,  6.,  7.],\n",
       "       [ 7.,  8.,  9., 10.]])"
      ]
     },
     "execution_count": 217,
     "metadata": {},
     "output_type": "execute_result"
    }
   ],
   "source": [
    "b = np.array([[1,2,3,4], [4,5,6,7], [7,8,9,10.]])\n",
    "b"
   ]
  },
  {
   "cell_type": "code",
   "execution_count": 218,
   "id": "04f33cad-d51f-4ccb-a1e8-b9b352dea106",
   "metadata": {},
   "outputs": [
    {
     "data": {
      "text/plain": [
       "dtype('float64')"
      ]
     },
     "execution_count": 218,
     "metadata": {},
     "output_type": "execute_result"
    }
   ],
   "source": [
    "b.dtype    # float64"
   ]
  },
  {
   "cell_type": "code",
   "execution_count": 219,
   "id": "1aa4cc93-2b4a-45b6-8e7b-77dcb3baebf5",
   "metadata": {},
   "outputs": [
    {
     "data": {
      "text/plain": [
       "12"
      ]
     },
     "execution_count": 219,
     "metadata": {},
     "output_type": "execute_result"
    }
   ],
   "source": [
    "b.size     # 12"
   ]
  },
  {
   "cell_type": "code",
   "execution_count": 220,
   "id": "2608331f-7014-48c9-8d2e-d12155ea917e",
   "metadata": {},
   "outputs": [
    {
     "data": {
      "text/plain": [
       "2"
      ]
     },
     "execution_count": 220,
     "metadata": {},
     "output_type": "execute_result"
    }
   ],
   "source": [
    "b.ndim     # 2"
   ]
  },
  {
   "cell_type": "code",
   "execution_count": 221,
   "id": "0ad3498c-6203-4f7c-b62f-3b743c968673",
   "metadata": {},
   "outputs": [
    {
     "data": {
      "text/plain": [
       "(3, 4)"
      ]
     },
     "execution_count": 221,
     "metadata": {},
     "output_type": "execute_result"
    }
   ],
   "source": [
    "b.shape    # (3, 4)"
   ]
  },
  {
   "cell_type": "code",
   "execution_count": 222,
   "id": "116a0888-8db1-4d1a-9880-c278b3fb8f84",
   "metadata": {},
   "outputs": [
    {
     "data": {
      "text/plain": [
       "8"
      ]
     },
     "execution_count": 222,
     "metadata": {},
     "output_type": "execute_result"
    }
   ],
   "source": [
    "b.itemsize # 8"
   ]
  },
  {
   "cell_type": "code",
   "execution_count": 223,
   "id": "54abdfea-02cf-4b79-8a3f-066aca8ea4ac",
   "metadata": {},
   "outputs": [
    {
     "data": {
      "text/plain": [
       "96"
      ]
     },
     "execution_count": 223,
     "metadata": {},
     "output_type": "execute_result"
    }
   ],
   "source": [
    "b.nbytes   # 12*8=96"
   ]
  },
  {
   "cell_type": "code",
   "execution_count": 224,
   "id": "cf163b12-bc0a-4cdb-95b6-a1dd67471e45",
   "metadata": {},
   "outputs": [
    {
     "data": {
      "text/plain": [
       "array([[ 1,  2,  3,  4],\n",
       "       [ 4,  5,  6,  7],\n",
       "       [ 7,  8,  9, 10]])"
      ]
     },
     "execution_count": 224,
     "metadata": {},
     "output_type": "execute_result"
    }
   ],
   "source": [
    "# 資料型別轉換\n",
    "b.astype('int32')"
   ]
  },
  {
   "cell_type": "code",
   "execution_count": 225,
   "id": "ad45bdf5-5881-456c-98fe-53fbefe5b15a",
   "metadata": {},
   "outputs": [],
   "source": [
    "b = b.astype('int32')"
   ]
  },
  {
   "cell_type": "code",
   "execution_count": 226,
   "id": "34dc7be9-3f86-4f74-8152-4e72b2e4ec05",
   "metadata": {},
   "outputs": [
    {
     "data": {
      "text/plain": [
       "dtype('int32')"
      ]
     },
     "execution_count": 226,
     "metadata": {},
     "output_type": "execute_result"
    }
   ],
   "source": [
    "b.dtype    # int32"
   ]
  },
  {
   "cell_type": "code",
   "execution_count": 227,
   "id": "eab6a3b2-c69b-478b-9cd5-d283d2130cdb",
   "metadata": {},
   "outputs": [
    {
     "data": {
      "text/plain": [
       "array([1, 2, 3, 4])"
      ]
     },
     "execution_count": 227,
     "metadata": {},
     "output_type": "execute_result"
    }
   ],
   "source": [
    "# array 一維陣列 - loop 處理\n",
    "\n",
    "a = np.array([1,2,3,4])\n",
    "a"
   ]
  },
  {
   "cell_type": "code",
   "execution_count": 228,
   "id": "949ca9fe-4bbd-4e5e-bb24-d5e763fd8949",
   "metadata": {},
   "outputs": [
    {
     "name": "stdout",
     "output_type": "stream",
     "text": [
      "1\n",
      "2\n",
      "3\n",
      "4\n"
     ]
    }
   ],
   "source": [
    "# 方法1. array - 取出元素, 使用for\n",
    "for x in a:\n",
    "  print(x)"
   ]
  },
  {
   "cell_type": "code",
   "execution_count": 229,
   "id": "18ced6ef-28e5-48cb-ac7f-ce821f39d198",
   "metadata": {},
   "outputs": [
    {
     "name": "stdout",
     "output_type": "stream",
     "text": [
      "1\n",
      "2\n",
      "3\n",
      "4\n"
     ]
    }
   ],
   "source": [
    "# 方法2. array - 取出元素, 使用while\n",
    "i = 0\n",
    "while i < len(a):\n",
    "  print(a[i])\n",
    "  i = i + 1"
   ]
  },
  {
   "cell_type": "code",
   "execution_count": 230,
   "id": "5ec537e4-b9ab-41e7-8f9c-6850f7c5be0f",
   "metadata": {},
   "outputs": [
    {
     "name": "stdout",
     "output_type": "stream",
     "text": [
      "1\n",
      "2\n",
      "3\n",
      "4\n"
     ]
    }
   ],
   "source": [
    "# 方法3. array - 取出元素, 使用指標 range, len\n",
    "for i in range(len(a)):\n",
    "  print(a[i])"
   ]
  },
  {
   "cell_type": "code",
   "execution_count": 231,
   "id": "da7eb916-fb87-402d-be49-b6044177bfeb",
   "metadata": {},
   "outputs": [
    {
     "name": "stdout",
     "output_type": "stream",
     "text": [
      "1\n",
      "2\n",
      "3\n",
      "4\n"
     ]
    },
    {
     "data": {
      "text/plain": [
       "[None, None, None, None]"
      ]
     },
     "execution_count": 231,
     "metadata": {},
     "output_type": "execute_result"
    }
   ],
   "source": [
    "# 方法4. array - 取出元素, 使用陣列包含法\n",
    "[print(x) for x in a]"
   ]
  },
  {
   "cell_type": "code",
   "execution_count": 232,
   "id": "dafdd53a-e0b2-427b-8094-352568438c13",
   "metadata": {},
   "outputs": [
    {
     "data": {
      "text/plain": [
       "array([[1, 2, 3, 4],\n",
       "       [5, 6, 7, 8]])"
      ]
     },
     "execution_count": 232,
     "metadata": {},
     "output_type": "execute_result"
    }
   ],
   "source": [
    "# array 二維陣列 - loop 處理\n",
    "\n",
    "a = np.array([[1,2,3,4], [5,6,7,8]])\n",
    "a"
   ]
  },
  {
   "cell_type": "code",
   "execution_count": 233,
   "id": "e4210efc-f54a-48fd-be26-1bb08f27fa54",
   "metadata": {},
   "outputs": [
    {
     "name": "stdout",
     "output_type": "stream",
     "text": [
      "[1 2 3 4]\n",
      "[5 6 7 8]\n"
     ]
    }
   ],
   "source": [
    "for x in a:\n",
    "  print(x)"
   ]
  },
  {
   "cell_type": "code",
   "execution_count": 234,
   "id": "e46820b8-d013-4a09-bc54-78c4f8a4b4dc",
   "metadata": {},
   "outputs": [
    {
     "name": "stdout",
     "output_type": "stream",
     "text": [
      "1@*2@*3@*4@*5@*6@*7@*8@*"
     ]
    }
   ],
   "source": [
    "for x in a:\n",
    "    for item in x:\n",
    "        print(str(item) + \"@\", end = \"*\")"
   ]
  },
  {
   "cell_type": "code",
   "execution_count": 235,
   "id": "06a6d65b-9d87-448b-b4e2-d9dce6488cc5",
   "metadata": {},
   "outputs": [],
   "source": [
    "# array 運算\n",
    "\n",
    "a = np.array([1,2,3])\n",
    "b = np.array([4,5,6])"
   ]
  },
  {
   "cell_type": "code",
   "execution_count": 236,
   "id": "079cdafa-6528-4c09-8dac-cf954933ba09",
   "metadata": {},
   "outputs": [
    {
     "data": {
      "text/plain": [
       "array([5, 7, 9])"
      ]
     },
     "execution_count": 236,
     "metadata": {},
     "output_type": "execute_result"
    }
   ],
   "source": [
    "a+b # 加"
   ]
  },
  {
   "cell_type": "code",
   "execution_count": 237,
   "id": "17117597-3df9-47f9-babd-a4131c3ea0bd",
   "metadata": {},
   "outputs": [
    {
     "data": {
      "text/plain": [
       "array([-3, -3, -3])"
      ]
     },
     "execution_count": 237,
     "metadata": {},
     "output_type": "execute_result"
    }
   ],
   "source": [
    "a-b # 減"
   ]
  },
  {
   "cell_type": "code",
   "execution_count": 238,
   "id": "20e9be00-2c79-49f1-a8e7-c6519dc81927",
   "metadata": {},
   "outputs": [
    {
     "data": {
      "text/plain": [
       "array([ 4, 10, 18])"
      ]
     },
     "execution_count": 238,
     "metadata": {},
     "output_type": "execute_result"
    }
   ],
   "source": [
    "a*b # 乘"
   ]
  },
  {
   "cell_type": "code",
   "execution_count": 239,
   "id": "144a9851-6a4a-422b-8e2e-828c5ebcc4a1",
   "metadata": {},
   "outputs": [
    {
     "data": {
      "text/plain": [
       "array([0.25, 0.4 , 0.5 ])"
      ]
     },
     "execution_count": 239,
     "metadata": {},
     "output_type": "execute_result"
    }
   ],
   "source": [
    "a/b # 除"
   ]
  },
  {
   "cell_type": "code",
   "execution_count": 240,
   "id": "1feacc70-7528-4ce1-a71a-2cf1b3033748",
   "metadata": {},
   "outputs": [
    {
     "data": {
      "text/plain": [
       "array([[1, 2],\n",
       "       [3, 4],\n",
       "       [5, 6]])"
      ]
     },
     "execution_count": 240,
     "metadata": {},
     "output_type": "execute_result"
    }
   ],
   "source": [
    "# 矩陣相乘(dot)\n",
    "a = np.array([[1,2],[3,4],[5,6]])\n",
    "a"
   ]
  },
  {
   "cell_type": "code",
   "execution_count": 241,
   "id": "43cadf86-a39a-4cb4-bd95-9e6b0703135c",
   "metadata": {},
   "outputs": [
    {
     "data": {
      "text/plain": [
       "array([[1, 2],\n",
       "       [3, 4]])"
      ]
     },
     "execution_count": 241,
     "metadata": {},
     "output_type": "execute_result"
    }
   ],
   "source": [
    "b = np.array([[1,2],[3,4]])\n",
    "b"
   ]
  },
  {
   "cell_type": "code",
   "execution_count": 242,
   "id": "da3a0bc1-d8ac-4554-8a1c-4ae5a7501400",
   "metadata": {},
   "outputs": [
    {
     "data": {
      "text/plain": [
       "(3, 2)"
      ]
     },
     "execution_count": 242,
     "metadata": {},
     "output_type": "execute_result"
    }
   ],
   "source": [
    "a.shape"
   ]
  },
  {
   "cell_type": "code",
   "execution_count": 243,
   "id": "1d3e29f8-9672-4cdb-b60c-f5f5220407db",
   "metadata": {},
   "outputs": [
    {
     "data": {
      "text/plain": [
       "(2, 2)"
      ]
     },
     "execution_count": 243,
     "metadata": {},
     "output_type": "execute_result"
    }
   ],
   "source": [
    "b.shape"
   ]
  },
  {
   "cell_type": "code",
   "execution_count": 244,
   "id": "99959071-bf39-463c-a65c-b29e8aa3ae17",
   "metadata": {},
   "outputs": [
    {
     "data": {
      "text/plain": [
       "array([[ 7, 10],\n",
       "       [15, 22],\n",
       "       [23, 34]])"
      ]
     },
     "execution_count": 244,
     "metadata": {},
     "output_type": "execute_result"
    }
   ],
   "source": [
    "c = a.dot(b) # 矩陣相乘(dot)\n",
    "c"
   ]
  },
  {
   "cell_type": "code",
   "execution_count": 245,
   "id": "075e061f-b635-4520-9385-399bec15f940",
   "metadata": {},
   "outputs": [
    {
     "data": {
      "text/plain": [
       "array([[ 7, 15, 23],\n",
       "       [10, 22, 34]])"
      ]
     },
     "execution_count": 245,
     "metadata": {},
     "output_type": "execute_result"
    }
   ],
   "source": [
    "np.transpose(c) # 矩陣轉置"
   ]
  },
  {
   "cell_type": "code",
   "execution_count": 246,
   "id": "8d0e8a38-558a-4388-a09b-eba4524826e9",
   "metadata": {},
   "outputs": [
    {
     "data": {
      "text/plain": [
       "array([[ 7, 15, 23],\n",
       "       [10, 22, 34]])"
      ]
     },
     "execution_count": 246,
     "metadata": {},
     "output_type": "execute_result"
    }
   ],
   "source": [
    "c.T             # 矩陣轉置"
   ]
  },
  {
   "cell_type": "code",
   "execution_count": 247,
   "id": "49550676-638c-4bb7-8ca3-8d4c8b12b8bc",
   "metadata": {},
   "outputs": [
    {
     "data": {
      "text/plain": [
       "array([[-2. ,  1. ],\n",
       "       [ 1.5, -0.5]])"
      ]
     },
     "execution_count": 247,
     "metadata": {},
     "output_type": "execute_result"
    }
   ],
   "source": [
    "# inv()：反矩陣,逆矩陣 (inverse matrix)\n",
    "from numpy.linalg import inv\n",
    "\n",
    "x = np.array([[1, 2], [3, 4]])\n",
    "\n",
    "inv(x)\n",
    "# array([[-2. ,  1. ],\n",
    "#        [ 1.5, -0.5]])"
   ]
  },
  {
   "cell_type": "code",
   "execution_count": 248,
   "id": "dc987088-f980-4db8-a786-d6ef9258a8eb",
   "metadata": {},
   "outputs": [
    {
     "data": {
      "text/plain": [
       "array([[1.00000000e+00, 1.11022302e-16],\n",
       "       [0.00000000e+00, 1.00000000e+00]])"
      ]
     },
     "execution_count": 248,
     "metadata": {},
     "output_type": "execute_result"
    }
   ],
   "source": [
    "# 單位矩陣 (Identity matrix)\n",
    "x.dot(inv(x))\n",
    "# array([[1.00000000e+00, 1.11022302e-16],\n",
    "#        [0.00000000e+00, 1.00000000e+00]])"
   ]
  },
  {
   "cell_type": "code",
   "execution_count": 249,
   "id": "a8d0739b-5179-4d47-96bb-246bedde662d",
   "metadata": {},
   "outputs": [
    {
     "data": {
      "text/plain": [
       "array([[1., 0.],\n",
       "       [0., 1.]])"
      ]
     },
     "execution_count": 249,
     "metadata": {},
     "output_type": "execute_result"
    }
   ],
   "source": [
    "x.dot(inv(x)).round(1)\n",
    "# array([[1., 0.],\n",
    "#        [0., 1.]])"
   ]
  },
  {
   "cell_type": "code",
   "execution_count": 250,
   "id": "d10812ff-187f-4f06-a4cf-c072a8717148",
   "metadata": {},
   "outputs": [
    {
     "data": {
      "text/plain": [
       "-2.0000000000000004"
      ]
     },
     "execution_count": 250,
     "metadata": {},
     "output_type": "execute_result"
    }
   ],
   "source": [
    "# 計算矩陣行列式值 (determinant)\n",
    "np.linalg.det(x)\n",
    "# -2.0000000000000004"
   ]
  },
  {
   "cell_type": "code",
   "execution_count": 251,
   "id": "0a83e531-afea-48e2-85f9-24dc93b229a8",
   "metadata": {},
   "outputs": [
    {
     "data": {
      "text/plain": [
       "EigResult(eigenvalues=array([-0.37228132,  5.37228132]), eigenvectors=array([[-0.82456484, -0.41597356],\n",
       "       [ 0.56576746, -0.90937671]]))"
      ]
     },
     "execution_count": 251,
     "metadata": {},
     "output_type": "execute_result"
    }
   ],
   "source": [
    "# 計算方形矩陣的特徵值 (eigenvalue) 與特徵向量 (eigenvector)\n",
    "np.linalg.eig(x)"
   ]
  },
  {
   "cell_type": "code",
   "execution_count": 252,
   "id": "db2abee5-f446-496e-a710-33f947717eb1",
   "metadata": {},
   "outputs": [
    {
     "data": {
      "text/plain": [
       "pixel1      int64\n",
       "pixel2      int64\n",
       "pixel3      int64\n",
       "pixel4      int64\n",
       "pixel5      int64\n",
       "            ...  \n",
       "pixel780    int64\n",
       "pixel781    int64\n",
       "pixel782    int64\n",
       "pixel783    int64\n",
       "pixel784    int64\n",
       "Length: 784, dtype: object"
      ]
     },
     "execution_count": 252,
     "metadata": {},
     "output_type": "execute_result"
    }
   ],
   "source": [
    "# 陣列應用 -高維度影像: MNIST 手寫數字辨識資料集\n",
    "# http://yann.lecun.com/exdb/mnist/\n",
    "\n",
    "from sklearn.datasets import fetch_openml\n",
    "from sklearn.model_selection import train_test_split\n",
    "import matplotlib.pyplot as plt\n",
    "\n",
    "# 方法1 回傳 Bunch 資料物件\n",
    "# 原圖為28*28, 2維展開為1維 28*28=784\n",
    "\n",
    "mnist_data = fetch_openml(\"mnist_784\")\n",
    "xdata = mnist_data[\"data\"] # 70000*784\n",
    "ydata = mnist_data[\"target\"] # 70000\n",
    "\n",
    "xdata.ndim  # 2\n",
    "xdata.shape # (70000, 784)\n",
    "type(xdata) # pandas.core.frame.DataFrame\n",
    "xdata.dtypes"
   ]
  },
  {
   "cell_type": "code",
   "execution_count": 253,
   "id": "9dbcd4c2-2fb0-49fe-8445-0e8355622986",
   "metadata": {},
   "outputs": [
    {
     "data": {
      "text/plain": [
       "dtype('O')"
      ]
     },
     "execution_count": 253,
     "metadata": {},
     "output_type": "execute_result"
    }
   ],
   "source": [
    "# 方法2 直接回傳 X, y\n",
    "\n",
    "# Load data from https://www.openml.org/d/554\n",
    "X, y = fetch_openml('mnist_784', return_X_y=True)\n",
    "# X : 70000*84\n",
    "# y : 70000\n",
    "\n",
    "X_train, X_test, y_train, y_test = train_test_split(X, \n",
    "                                                    y, \n",
    "                                                    random_state=123, \n",
    "                                                    test_size=10000)\n",
    "type(X_train) # DataFrame (早期版本為 numpy.ndarray)\n",
    "\n",
    "# 將 DataFrame 轉換成 array 物件\n",
    "X_train = X_train.to_numpy()\n",
    "y_train = y_train.to_numpy()\n",
    "\n",
    "type(X_train) # numpy.ndarray\n",
    "X_train.ndim  # 2\n",
    "X_train.shape # (60000, 784)\n",
    "X_train.dtype # dtype('float64')\n",
    "\n",
    "type(y_train) # numpy.ndarray\n",
    "y_train.ndim  # 1\n",
    "y_train.shape # (60000,)\n",
    "y_train.dtype # dtype('O'), 表示字串"
   ]
  },
  {
   "cell_type": "code",
   "execution_count": 254,
   "id": "bc0081e1-11cc-4367-bde1-cfe99bf6656e",
   "metadata": {},
   "outputs": [
    {
     "data": {
      "text/plain": [
       "<matplotlib.image.AxesImage at 0x23aa8bb7e60>"
      ]
     },
     "execution_count": 254,
     "metadata": {},
     "output_type": "execute_result"
    },
    {
     "data": {
      "image/png": "[encoded data removed]",
      "text/plain": [
       "<Figure size 640x480 with 1 Axes>"
      ]
     },
     "metadata": {},
     "output_type": "display_data"
    }
   ],
   "source": [
    "# 繪製數字影像\n",
    "plt.imshow(X_train[0].reshape(28,28), cmap='binary')"
   ]
  },
  {
   "cell_type": "code",
   "execution_count": 255,
   "id": "35d6a29c-130d-4b14-a7ac-58855a06c5fe",
   "metadata": {},
   "outputs": [
    {
     "data": {
      "text/plain": [
       "'5'"
      ]
     },
     "execution_count": 255,
     "metadata": {},
     "output_type": "execute_result"
    }
   ],
   "source": [
    "# 實際值\n",
    "y_train[0] # '5'"
   ]
  },
  {
   "cell_type": "code",
   "execution_count": 256,
   "id": "ab690f5f-aa0e-4bc7-bde6-10f63a3e43b1",
   "metadata": {},
   "outputs": [
    {
     "data": {
      "image/png": "[encoded data removed]",
      "text/plain": [
       "<Figure size 1200x1400 with 10 Axes>"
      ]
     },
     "metadata": {},
     "output_type": "display_data"
    }
   ],
   "source": [
    "# 繪製多個數字影像, 最多一次顯示25個\n",
    "def plot_images_labels(images, labels, idx, num=10):\n",
    "    fig = plt.gcf() # 取得目前的 figure\n",
    "    fig.set_size_inches(12, 14) # 設定圖形大小\n",
    "    if num > 25: num=25 \n",
    "    for i in range(0, num):\n",
    "        ax=plt.subplot(5, 5, 1+i)\n",
    "        ax.imshow(images[idx].reshape(28,28), cmap='binary')\n",
    "        title= \"Label=\" + str(labels[idx])\n",
    "        ax.set_title(title, fontsize=20)\n",
    "        ax.set_xticks([])\n",
    "        ax.set_yticks([])        \n",
    "        idx+=1 \n",
    "    plt.show()\n",
    "plot_images_labels(X_train, y_train, 0, 10)"
   ]
  },
  {
   "cell_type": "markdown",
   "id": "1626e99a-fb4d-41dd-9bb9-5dea1620fbfd",
   "metadata": {},
   "source": [
    "**reshape 應用**"
   ]
  },
  {
   "cell_type": "code",
   "execution_count": 257,
   "id": "27d24a5a-df0f-4daf-9fed-fc421340b3b8",
   "metadata": {},
   "outputs": [
    {
     "data": {
      "text/plain": [
       "array([[ 1,  2,  3,  4],\n",
       "       [ 5,  6,  7,  8],\n",
       "       [ 9, 10, 11, 12]])"
      ]
     },
     "execution_count": 257,
     "metadata": {},
     "output_type": "execute_result"
    }
   ],
   "source": [
    "import numpy as np\n",
    "\n",
    "z = np.array([[1, 2, 3, 4], [5, 6, 7, 8], [9, 10, 11, 12]])\n",
    "z"
   ]
  },
  {
   "cell_type": "code",
   "execution_count": 258,
   "id": "4ef607ae-d3e8-4ae4-9270-1f2f3ba2aa60",
   "metadata": {},
   "outputs": [
    {
     "data": {
      "text/plain": [
       "array([ 1,  2,  3,  4,  5,  6,  7,  8,  9, 10, 11, 12])"
      ]
     },
     "execution_count": 258,
     "metadata": {},
     "output_type": "execute_result"
    }
   ],
   "source": [
    "z.reshape(-1) # -1: unknown dimension\n",
    "# array([ 1,  2,  3, ..., 10, 11, 12])"
   ]
  },
  {
   "cell_type": "code",
   "execution_count": 259,
   "id": "2220d842-2342-4bdd-bf8d-915ef0b5cfd1",
   "metadata": {},
   "outputs": [
    {
     "data": {
      "text/plain": [
       "array([[ 1],\n",
       "       [ 2],\n",
       "       [ 3],\n",
       "       [ 4],\n",
       "       [ 5],\n",
       "       [ 6],\n",
       "       [ 7],\n",
       "       [ 8],\n",
       "       [ 9],\n",
       "       [10],\n",
       "       [11],\n",
       "       [12]])"
      ]
     },
     "execution_count": 259,
     "metadata": {},
     "output_type": "execute_result"
    }
   ],
   "source": [
    "z.reshape(-1,1) # row -1: unknown , column 1"
   ]
  },
  {
   "cell_type": "code",
   "execution_count": 260,
   "id": "d1b14877-ad29-4594-a40b-aaec4fa77a5e",
   "metadata": {},
   "outputs": [
    {
     "data": {
      "text/plain": [
       "array([[ 1,  2],\n",
       "       [ 3,  4],\n",
       "       [ 5,  6],\n",
       "       [ 7,  8],\n",
       "       [ 9, 10],\n",
       "       [11, 12]])"
      ]
     },
     "execution_count": 260,
     "metadata": {},
     "output_type": "execute_result"
    }
   ],
   "source": [
    "z.reshape(-1, 2) # row -1: unknown , column 2"
   ]
  },
  {
   "cell_type": "code",
   "execution_count": 261,
   "id": "733d4974-b4d1-4f02-9549-34627d41a315",
   "metadata": {},
   "outputs": [
    {
     "data": {
      "text/plain": [
       "array([[ 1,  2,  3,  4,  5,  6,  7,  8,  9, 10, 11, 12]])"
      ]
     },
     "execution_count": 261,
     "metadata": {},
     "output_type": "execute_result"
    }
   ],
   "source": [
    "z.reshape(1,-1) # row 1 , column: unknown"
   ]
  },
  {
   "cell_type": "code",
   "execution_count": 262,
   "id": "25f533e6-db3d-421d-9d41-ef7e6a7e2a24",
   "metadata": {},
   "outputs": [
    {
     "data": {
      "text/plain": [
       "array([[ 1,  2,  3,  4,  5,  6],\n",
       "       [ 7,  8,  9, 10, 11, 12]])"
      ]
     },
     "execution_count": 262,
     "metadata": {},
     "output_type": "execute_result"
    }
   ],
   "source": [
    "z.reshape(2, -1) # row 2 , column: unknown"
   ]
  },
  {
   "cell_type": "code",
   "execution_count": 263,
   "id": "c6242862-b2d8-430a-b964-3318d1061735",
   "metadata": {},
   "outputs": [
    {
     "data": {
      "text/plain": [
       "array([[ 1,  2,  3,  4],\n",
       "       [ 5,  6,  7,  8],\n",
       "       [ 9, 10, 11, 12]])"
      ]
     },
     "execution_count": 263,
     "metadata": {},
     "output_type": "execute_result"
    }
   ],
   "source": [
    "z.reshape(3, -1) # row 3 , column: unknown"
   ]
  },
  {
   "cell_type": "code",
   "execution_count": 264,
   "id": "f89b7b02-0aa6-4319-a196-7681b46e3e93",
   "metadata": {},
   "outputs": [],
   "source": [
    "# ValueError: can only specify one unknown dimension\n",
    "# z.reshape(-1, -1)"
   ]
  },
  {
   "cell_type": "markdown",
   "id": "e28747c8-a524-478e-aeca-ff22b638a149",
   "metadata": {},
   "source": [
    "**計算時間**"
   ]
  },
  {
   "cell_type": "code",
   "execution_count": 265,
   "id": "7e8d1454-6252-4989-be40-2c44eabcd29a",
   "metadata": {},
   "outputs": [
    {
     "name": "stdout",
     "output_type": "stream",
     "text": [
      "Normal Python: 0.718218 sec\n",
      "Naive NumPy: 0.779572 sec\n",
      "Good NumPy: 0.009574 sec\n",
      "Hello World\n"
     ]
    }
   ],
   "source": [
    "import timeit\n",
    "import numpy as np\n",
    "\n",
    "normal_py_sec = timeit.timeit('sum(x*x for x in range(1000))', number=10000)\n",
    "naive_np_sec = timeit.timeit('sum(na*na)', setup=\"import numpy as np; na=np.arange(1000)\", number=10000)\n",
    "good_np_sec = timeit.timeit('na.dot(na)', setup=\"import numpy as np; na=np.arange(1000)\", number=10000)\n",
    "\n",
    "print(\"Normal Python: %f sec\"%normal_py_sec)\n",
    "print(\"Naive NumPy: %f sec\"%naive_np_sec)\n",
    "print(\"Good NumPy: %f sec\"%good_np_sec)\n",
    "\n",
    "# print \"Hello World\"    # python 2\n",
    "print(\"Hello World\")   # python 3"
   ]
  },
  {
   "cell_type": "markdown",
   "id": "cf26f380-e88a-4852-a208-67a360c4ab3c",
   "metadata": {},
   "source": [
    "**判斷式 if elif else**"
   ]
  },
  {
   "cell_type": "code",
   "execution_count": 266,
   "id": "ba71907a-206a-4a34-8766-0b625619f584",
   "metadata": {},
   "outputs": [
    {
     "data": {
      "text/plain": [
       "'\\n# case 1\\nif 布林值:\\n \\t若布林值為 True，執行命令\\n\\n# case 2\\nif 布林值:\\n \\t若布林值為 True，執行命令\\nelse:\\n    若布林值為 False，執行命令\\n\\n# case 3\\nif 布林值一:\\n \\t若布林值一為 True，執行命令\\nelif 布林值二:\\n \\t若布林值二為 True，執行命令\\n...\\nelse:\\n \\t若布林值一和二...都是 False，執行命令\\n'"
      ]
     },
     "execution_count": 266,
     "metadata": {},
     "output_type": "execute_result"
    }
   ],
   "source": [
    "\"\"\"\n",
    "# case 1\n",
    "if 布林值:\n",
    " \t若布林值為 True，執行命令\n",
    "\n",
    "# case 2\n",
    "if 布林值:\n",
    " \t若布林值為 True，執行命令\n",
    "else:\n",
    "    若布林值為 False，執行命令\n",
    "\n",
    "# case 3\n",
    "if 布林值一:\n",
    " \t若布林值一為 True，執行命令\n",
    "elif 布林值二:\n",
    " \t若布林值二為 True，執行命令\n",
    "...\n",
    "else:\n",
    " \t若布林值一和二...都是 False，執行命令\n",
    "\"\"\""
   ]
  },
  {
   "cell_type": "code",
   "execution_count": 267,
   "id": "6dbc2078-92f4-4bdd-8488-9ab6cc6b44c3",
   "metadata": {},
   "outputs": [
    {
     "data": {
      "text/plain": [
       "'PLUS'"
      ]
     },
     "execution_count": 267,
     "metadata": {},
     "output_type": "execute_result"
    }
   ],
   "source": [
    "# elif敘述\n",
    "a = '+'\n",
    "\n",
    "if a == '+':\n",
    "\top = 'PLUS'\n",
    "elif a == '-':\n",
    "\top = 'MINUS'\n",
    "else:\n",
    "\top = 'UNKNOWN'\n",
    "\n",
    "op"
   ]
  },
  {
   "cell_type": "code",
   "execution_count": 268,
   "id": "dac7f723-d800-4c89-991e-c42907537b3c",
   "metadata": {},
   "outputs": [
    {
     "name": "stdout",
     "output_type": "stream",
     "text": [
      "b is between a and c\n"
     ]
    }
   ],
   "source": [
    "# 沒有像C語言一樣，有switch的語法\n",
    "# 布林表示式 – and, or, not\n",
    "a = 1\n",
    "b = 6\n",
    "c = 9\n",
    "\n",
    "if b >= a and b <= c:\n",
    "\tprint('b is between a and c')"
   ]
  },
  {
   "cell_type": "code",
   "execution_count": 269,
   "id": "36b5043c-fe7c-4cdb-8579-544adee4cf90",
   "metadata": {},
   "outputs": [
    {
     "name": "stdout",
     "output_type": "stream",
     "text": [
      "b is still between a and c\n"
     ]
    }
   ],
   "source": [
    "if not (b < a or c > c):\n",
    "\tprint('b is still between a and c')"
   ]
  },
  {
   "cell_type": "code",
   "execution_count": 270,
   "id": "7161d099-90c9-4459-8560-55b13a3033dc",
   "metadata": {},
   "outputs": [
    {
     "name": "stdout",
     "output_type": "stream",
     "text": [
      "You are not Alan. 大大\n"
     ]
    }
   ],
   "source": [
    "# 邏輯錯誤 (Logical Errors)\n",
    "# if 範例 - age > 200 不會執行\n",
    "name = 'RWEPA'\n",
    "age = 300\n",
    "if name == 'Alan':\n",
    "    print('Hi, Alan.')\n",
    "elif age < 20:\n",
    "    print('You are not Alan.')\n",
    "elif age > 100:\n",
    "    print('You are not Alan. 大大')\n",
    "elif age > 200:\n",
    "    print('年齡異常')\n",
    "# You are not Alan. 大大"
   ]
  },
  {
   "cell_type": "markdown",
   "id": "96c949fc-9c78-40b9-bb2d-4f6578b3c6fd",
   "metadata": {},
   "source": [
    "**迴圈 (Loops)**"
   ]
  },
  {
   "cell_type": "code",
   "execution_count": 271,
   "id": "e3b8f78b-1c51-4400-b8ae-6b15bfcb1498",
   "metadata": {},
   "outputs": [
    {
     "data": {
      "text/plain": [
       "\"\\nname = ''\\nwhile name != 'Alan Lee':\\n    print('Please type your name.')\\n    name = input()\\nprint('Thank you!')\\n\""
      ]
     },
     "execution_count": 271,
     "metadata": {},
     "output_type": "execute_result"
    }
   ],
   "source": [
    "# while 迴圈\n",
    "\"\"\"\n",
    "name = ''\n",
    "while name != 'Alan Lee':\n",
    "    print('Please type your name.')\n",
    "    name = input()\n",
    "print('Thank you!')\n",
    "\"\"\""
   ]
  },
  {
   "cell_type": "code",
   "execution_count": 272,
   "id": "3474f3db-a1cf-4a35-9c64-86c21a95a302",
   "metadata": {},
   "outputs": [
    {
     "data": {
      "text/plain": [
       "\"\\nwhile True:\\n    print('Please type your name.')\\n    name = input()\\n    if name == 'Alan Lee':\\n        break\\nprint('Thank you!')\\n\""
      ]
     },
     "execution_count": 272,
     "metadata": {},
     "output_type": "execute_result"
    }
   ],
   "source": [
    "# while + break\n",
    "\"\"\"\n",
    "while True:\n",
    "    print('Please type your name.')\n",
    "    name = input()\n",
    "    if name == 'Alan Lee':\n",
    "        break\n",
    "print('Thank you!')\n",
    "\"\"\""
   ]
  },
  {
   "cell_type": "code",
   "execution_count": 273,
   "id": "821994f6-7899-460d-8175-4580add47483",
   "metadata": {},
   "outputs": [
    {
     "data": {
      "text/plain": [
       "\"\\nwhile True:\\n    print('Who are you?')\\n    name = input()\\n    if name != 'Alan':\\n        continue\\n    print('Hello, Alan. What is the password?')\\n    password = input()\\n    if password == 'alan9956@gmail.com':\\n        break\\nprint('Access granted.')\\n\""
      ]
     },
     "execution_count": 273,
     "metadata": {},
     "output_type": "execute_result"
    }
   ],
   "source": [
    "# while + break + continue\n",
    "\"\"\"\n",
    "while True:\n",
    "    print('Who are you?')\n",
    "    name = input()\n",
    "    if name != 'Alan':\n",
    "        continue\n",
    "    print('Hello, Alan. What is the password?')\n",
    "    password = input()\n",
    "    if password == 'alan9956@gmail.com':\n",
    "        break\n",
    "print('Access granted.')\n",
    "\"\"\""
   ]
  },
  {
   "cell_type": "code",
   "execution_count": 274,
   "id": "25d266ff-8048-4148-8198-d019e8bb7c48",
   "metadata": {},
   "outputs": [
    {
     "name": "stdout",
     "output_type": "stream",
     "text": [
      "3\n",
      "4\n",
      "10\n",
      "25\n"
     ]
    }
   ],
   "source": [
    "# 顯示list元素\n",
    "for i in [3, 4, 10, 25]:\n",
    "\tprint(i)"
   ]
  },
  {
   "cell_type": "code",
   "execution_count": 275,
   "id": "f814bd9b-f8de-4797-9c0f-6595eda4de3a",
   "metadata": {},
   "outputs": [
    {
     "name": "stdout",
     "output_type": "stream",
     "text": [
      "H\n",
      "e\n",
      "l\n",
      "l\n",
      "o\n"
     ]
    }
   ],
   "source": [
    "# 顯示一個字元\n",
    "for c in \"Hello\":\n",
    "\tprint(c)"
   ]
  },
  {
   "cell_type": "code",
   "execution_count": 276,
   "id": "1a43c141-31eb-4e00-b86e-1c54e8fdf27c",
   "metadata": {},
   "outputs": [
    {
     "name": "stdout",
     "output_type": "stream",
     "text": [
      "1\n",
      "2\n",
      "3\n"
     ]
    }
   ],
   "source": [
    "# 顯示 range 元素\n",
    "for i in range(1, 4):\n",
    "\tprint(i)"
   ]
  },
  {
   "cell_type": "code",
   "execution_count": 277,
   "id": "341e80bf-a051-46c4-8302-b78c6b457392",
   "metadata": {},
   "outputs": [
    {
     "name": "stdout",
     "output_type": "stream",
     "text": [
      "4\n",
      "3\n",
      "2\n",
      "1\n",
      "0\n",
      "-1\n"
     ]
    }
   ],
   "source": [
    "for i in range(4, -2, -1):\n",
    "\tprint(i)"
   ]
  },
  {
   "cell_type": "code",
   "execution_count": 278,
   "id": "bedae2bb-4ca3-4441-86ea-9bd676ffdcd3",
   "metadata": {},
   "outputs": [
    {
     "data": {
      "text/plain": [
       "True"
      ]
     },
     "execution_count": 278,
     "metadata": {},
     "output_type": "execute_result"
    }
   ],
   "source": [
    "# 零數值判斷, 注意以下結果\n",
    "0 == False"
   ]
  },
  {
   "cell_type": "code",
   "execution_count": 279,
   "id": "cea31f7c-7814-4bb5-aee2-5991940d50de",
   "metadata": {},
   "outputs": [
    {
     "data": {
      "text/plain": [
       "True"
      ]
     },
     "execution_count": 279,
     "metadata": {},
     "output_type": "execute_result"
    }
   ],
   "source": [
    "0.0 == False"
   ]
  },
  {
   "cell_type": "code",
   "execution_count": 280,
   "id": "b50161fe-e16e-43d2-a861-975883e1631f",
   "metadata": {},
   "outputs": [
    {
     "data": {
      "text/plain": [
       "True"
      ]
     },
     "execution_count": 280,
     "metadata": {},
     "output_type": "execute_result"
    }
   ],
   "source": [
    "0.000 == False"
   ]
  },
  {
   "cell_type": "code",
   "execution_count": 281,
   "id": "0c789650-0aba-452e-84ab-c4a0269b3bbe",
   "metadata": {},
   "outputs": [
    {
     "data": {
      "text/plain": [
       "False"
      ]
     },
     "execution_count": 281,
     "metadata": {},
     "output_type": "execute_result"
    }
   ],
   "source": [
    "'' == False"
   ]
  },
  {
   "cell_type": "code",
   "execution_count": 282,
   "id": "61e3db3f-b8c8-4d57-8a34-8da1e6dc704e",
   "metadata": {},
   "outputs": [
    {
     "data": {
      "text/plain": [
       "True"
      ]
     },
     "execution_count": 282,
     "metadata": {},
     "output_type": "execute_result"
    }
   ],
   "source": [
    "# 非零數值判斷\n",
    "1 == True     # True"
   ]
  },
  {
   "cell_type": "code",
   "execution_count": 283,
   "id": "a174c1d4-9a50-4c44-81d0-9e3fad0046cc",
   "metadata": {},
   "outputs": [
    {
     "data": {
      "text/plain": [
       "False"
      ]
     },
     "execution_count": 283,
     "metadata": {},
     "output_type": "execute_result"
    }
   ],
   "source": [
    "1.23 == True  # False"
   ]
  },
  {
   "cell_type": "code",
   "execution_count": 284,
   "id": "549966c2-3e70-4313-9fd9-aab5be0466a2",
   "metadata": {},
   "outputs": [
    {
     "data": {
      "text/plain": [
       "False"
      ]
     },
     "execution_count": 284,
     "metadata": {},
     "output_type": "execute_result"
    }
   ],
   "source": [
    "1.23 == False # False"
   ]
  },
  {
   "cell_type": "markdown",
   "id": "01def44f-4be1-4c28-baf5-221a28c8b75d",
   "metadata": {},
   "source": [
    "**檔案處理**"
   ]
  },
  {
   "cell_type": "code",
   "execution_count": 285,
   "id": "b8f9838d-555a-420e-93e8-071b3dba99fc",
   "metadata": {},
   "outputs": [],
   "source": [
    "# os模組-建立與切換工作目錄\n",
    "import os\n"
   ]
  },
  {
   "cell_type": "code",
   "execution_count": 286,
   "id": "2818e929-2390-4d64-ba36-021124e026e0",
   "metadata": {},
   "outputs": [
    {
     "data": {
      "text/plain": [
       "['coding.dat', 'output.txt']"
      ]
     },
     "execution_count": 286,
     "metadata": {},
     "output_type": "execute_result"
    }
   ],
   "source": [
    "dir = os.path.join(\"C:/mydata\")\n",
    "if not os.path.exists(dir):\n",
    "    os.mkdir(dir)       # 建立目錄\n",
    "\n",
    "os.chdir(dir)           # 變更工作目錄\n",
    "os.listdir(os.getcwd()) # 顯示檔案名稱"
   ]
  },
  {
   "cell_type": "code",
   "execution_count": 287,
   "id": "8b317c60-77c8-454f-b352-061e6c165faa",
   "metadata": {},
   "outputs": [
    {
     "data": {
      "text/plain": [
       "'C:\\\\mydata'"
      ]
     },
     "execution_count": 287,
     "metadata": {},
     "output_type": "execute_result"
    }
   ],
   "source": [
    "os.getcwd()             # 已經變更為 C:/mydata"
   ]
  },
  {
   "cell_type": "code",
   "execution_count": 288,
   "id": "25b8dce8-49b3-4036-b1ff-2178859b7dfe",
   "metadata": {},
   "outputs": [],
   "source": [
    "# 方法1.檔案的開啟/寫入/關閉\n",
    "f = open(\"coding.dat\", \"w\") # Open a file for writing\n",
    "f.write(\"Hello World\\n\")\n",
    "f.write(\"Python\\n\")\n",
    "f.write(\"R\\n\")\n",
    "f.write(\"SQL\\n\")\n",
    "f.write(\"Excel VBA\\n\")\n",
    "f.close()"
   ]
  },
  {
   "cell_type": "code",
   "execution_count": 289,
   "id": "29a6b902-ec15-4a73-a8fb-37cae0429739",
   "metadata": {},
   "outputs": [],
   "source": [
    "g = open(\"coding.dat\",\"a\") \t# Open a file for appending\n",
    "g.write(\".NET\")\n",
    "g.close()"
   ]
  },
  {
   "cell_type": "code",
   "execution_count": 290,
   "id": "6364f87c-1908-4431-9d1c-3c8c8b3c08cb",
   "metadata": {},
   "outputs": [
    {
     "name": "stdout",
     "output_type": "stream",
     "text": [
      "<class 'str'>\n",
      "Hello World\n",
      "Python\n",
      "R\n",
      "SQL\n",
      "Excel VBA\n",
      ".NET\n"
     ]
    }
   ],
   "source": [
    "# 方法2.使用 with區塊\n",
    "\n",
    "# with open(\"coding.dat\", \"r\") as infile:\n",
    "\n",
    "# with區塊特性\n",
    "# 檔案會自動關閉, 可以不用撰寫 .close()\n",
    "# 即使出現以下狀況, 檔案仍會自動關閉:\n",
    "#  (1)發生例外 (Exception)\n",
    "#  (2)執行 return, continue, break 等而跳出 with 區塊\n",
    "\n",
    "# read 讀取全部資料\n",
    "with open(\"coding.dat\", \"r\") as infile:\n",
    "    mydata = infile.read()\n",
    "    print(type(mydata)) # str\n",
    "    print(mydata)"
   ]
  },
  {
   "cell_type": "code",
   "execution_count": 291,
   "id": "66241c2a-20a0-4bdb-88d3-015705858cb3",
   "metadata": {},
   "outputs": [
    {
     "name": "stdout",
     "output_type": "stream",
     "text": [
      "Hello World\n",
      "\n",
      "Python\n",
      "\n",
      "R\n",
      "\n",
      "SQL\n",
      "\n",
      "Excel VBA\n",
      "\n",
      ".NET\n"
     ]
    }
   ],
   "source": [
    "# readline 一次讀一列資料, while 迴圈-預設加入分隔列\n",
    "with open(\"coding.dat\", \"r\") as infile:\n",
    "    while True:\n",
    "        line = infile.readline()  # 一次讀一列資料\n",
    "        if not line:              # 所有資料讀取完畢\n",
    "            break\n",
    "        print(line)               # 預設加入分隔列"
   ]
  },
  {
   "cell_type": "code",
   "execution_count": 292,
   "id": "928d2964-fe29-41bd-a664-e0e172d6c809",
   "metadata": {},
   "outputs": [
    {
     "name": "stdout",
     "output_type": "stream",
     "text": [
      "Hello World\n",
      "*Python\n",
      "*R\n",
      "*SQL\n",
      "*Excel VBA\n",
      "*.NET*"
     ]
    }
   ],
   "source": [
    "# readline 一次讀一列資料, while 迴圈自訂分隔列符號\n",
    "with open(\"coding.dat\", \"r\") as infile:\n",
    "    while True:\n",
    "        line = infile.readline()     # 一次讀一列資料\n",
    "        if not line:                 # 所有資料讀取完畢\n",
    "            break\n",
    "        print(line, end='*')          # end='*' 自訂分隔列符號"
   ]
  },
  {
   "cell_type": "code",
   "execution_count": 293,
   "id": "36118a98-b279-484d-a769-867b5d8eeadf",
   "metadata": {},
   "outputs": [
    {
     "name": "stdout",
     "output_type": "stream",
     "text": [
      "Hello World\n",
      "Python\n",
      "R\n",
      "SQL\n",
      "Excel VBA\n",
      ".NET"
     ]
    }
   ],
   "source": [
    "# readlines 一次讀取所有資料\n",
    "with open(\"coding.dat\", \"r\") as infile:\n",
    "    for line in infile.readlines():  # 一次讀取所有資料，再逐列處理\n",
    "        print(line, end='')\n",
    "        "
   ]
  },
  {
   "cell_type": "code",
   "execution_count": 294,
   "id": "10b7b4e9-ff4e-430c-b066-2e9906acde5e",
   "metadata": {},
   "outputs": [
    {
     "name": "stdout",
     "output_type": "stream",
     "text": [
      "Hello World\n",
      "Python\n",
      "R\n",
      "SQL\n",
      "Excel VBA\n",
      ".NET"
     ]
    }
   ],
   "source": [
    "# readlines 簡化版本\n",
    "with open(\"coding.dat\", \"r\") as infile:\n",
    "    for line in infile:\n",
    "        print(line, end='')"
   ]
  },
  {
   "cell_type": "markdown",
   "id": "68d2a939-d7c4-4e64-8057-0ddd3bd8f9a6",
   "metadata": {},
   "source": [
    "# 3.5 日期時間資料"
   ]
  },
  {
   "cell_type": "code",
   "execution_count": 295,
   "id": "99cfb5d6-0456-474e-8c2a-add807e8ef88",
   "metadata": {},
   "outputs": [],
   "source": [
    "# 使用 datetime 模組\n",
    "from datetime import date, time, datetime"
   ]
  },
  {
   "cell_type": "code",
   "execution_count": 296,
   "id": "6f13536e-4c03-4731-be87-4a02ffff5004",
   "metadata": {},
   "outputs": [
    {
     "data": {
      "text/plain": [
       "datetime.date(2021, 8, 10)"
      ]
     },
     "execution_count": 296,
     "metadata": {},
     "output_type": "execute_result"
    }
   ],
   "source": [
    "date(year=2021, month=8, day=10) # datetime.date(2021, 8, 10)"
   ]
  },
  {
   "cell_type": "code",
   "execution_count": 297,
   "id": "d5d7ff1e-e2a1-4a1c-8d79-e1751d1eca28",
   "metadata": {},
   "outputs": [
    {
     "data": {
      "text/plain": [
       "datetime.time(13, 30, 31)"
      ]
     },
     "execution_count": 297,
     "metadata": {},
     "output_type": "execute_result"
    }
   ],
   "source": [
    "time(hour=13, minute=30, second=31) # datetime.time(13, 30, 31)"
   ]
  },
  {
   "cell_type": "code",
   "execution_count": 298,
   "id": "f20e8b38-7aa5-4b4b-a145-9b475ab9ae62",
   "metadata": {},
   "outputs": [
    {
     "data": {
      "text/plain": [
       "datetime.datetime(2021, 8, 10, 13, 30, 31)"
      ]
     },
     "execution_count": 298,
     "metadata": {},
     "output_type": "execute_result"
    }
   ],
   "source": [
    "datetime(year=2021, month=8, day=10, hour=13, minute=30, second=31)\n",
    "# datetime.datetime(2021, 8, 10, 13, 30, 31)"
   ]
  },
  {
   "cell_type": "code",
   "execution_count": 299,
   "id": "fb8a2b65-fd9b-4427-b5f9-a053383df85d",
   "metadata": {},
   "outputs": [
    {
     "data": {
      "text/plain": [
       "datetime.date(2025, 1, 6)"
      ]
     },
     "execution_count": 299,
     "metadata": {},
     "output_type": "execute_result"
    }
   ],
   "source": [
    "# 現在日期,時間\n",
    "today = date.today()\n",
    "today"
   ]
  },
  {
   "cell_type": "code",
   "execution_count": 300,
   "id": "9afb5c02-0af4-469f-b902-ed816fc5e0d9",
   "metadata": {},
   "outputs": [
    {
     "data": {
      "text/plain": [
       "datetime.datetime(2025, 1, 6, 23, 32, 36, 462463)"
      ]
     },
     "execution_count": 300,
     "metadata": {},
     "output_type": "execute_result"
    }
   ],
   "source": [
    "now = datetime.now()\n",
    "now"
   ]
  },
  {
   "cell_type": "code",
   "execution_count": 301,
   "id": "89e65dc7-39ef-4dbe-b087-364e6adf4bd1",
   "metadata": {},
   "outputs": [
    {
     "data": {
      "text/plain": [
       "datetime.time(23, 32, 36)"
      ]
     },
     "execution_count": 301,
     "metadata": {},
     "output_type": "execute_result"
    }
   ],
   "source": [
    "current_time = time(now.hour, now.minute, now.second)\n",
    "current_time"
   ]
  },
  {
   "cell_type": "code",
   "execution_count": 302,
   "id": "38aa1bf2-8317-4512-8b59-ac3418a5052a",
   "metadata": {},
   "outputs": [
    {
     "data": {
      "text/plain": [
       "datetime.datetime(2025, 1, 6, 23, 32, 36)"
      ]
     },
     "execution_count": 302,
     "metadata": {},
     "output_type": "execute_result"
    }
   ],
   "source": [
    "datetime.combine(today, current_time)"
   ]
  },
  {
   "cell_type": "code",
   "execution_count": 303,
   "id": "363889b1-240b-4002-b550-70e44bb9831c",
   "metadata": {},
   "outputs": [
    {
     "name": "stdout",
     "output_type": "stream",
     "text": [
      "2021-07-21\n"
     ]
    }
   ],
   "source": [
    "# 字串轉換為日期-fromisoformat\n",
    "mystr = \"2021-07-21\"\n",
    "mydate = date.fromisoformat(mystr)\n",
    "mydate\n",
    "print(mydate)"
   ]
  },
  {
   "cell_type": "code",
   "execution_count": 304,
   "id": "3e2c82dc-7515-42f0-940c-974ca2b89df1",
   "metadata": {},
   "outputs": [
    {
     "data": {
      "text/plain": [
       "datetime.datetime(2021, 6, 30, 12, 34, 56)"
      ]
     },
     "execution_count": 304,
     "metadata": {},
     "output_type": "execute_result"
    }
   ],
   "source": [
    "# 字串轉換為日期-strptime\n",
    "# https://docs.python.org/3/library/datetime.html#strftime-strptime-behavior\n",
    "\n",
    "# Year    %Y (4位數值年)\n",
    "# Month   %m (2位數值月)\n",
    "# Date    %d (2位數字日)\n",
    "# Hour    %H (2位數字24小時的時)\n",
    "# Minute  %M (2位數字分)\n",
    "# Second  %S (2位數字秒)\n",
    "\n",
    "date_string = \"06-30-2021 12:34:56\"\n",
    "format_string = \"%m-%d-%Y %H:%M:%S\"\n",
    "datetime.strptime(date_string, format_string)\n",
    "# datetime.datetime(2021, 6, 30, 12, 34, 56)"
   ]
  },
  {
   "cell_type": "code",
   "execution_count": 305,
   "id": "ee796355-f805-4730-beba-4ccf507bca67",
   "metadata": {},
   "outputs": [
    {
     "name": "stdout",
     "output_type": "stream",
     "text": [
      "距離 2025年5月14日 USA PyCon 還有 127 天\n"
     ]
    }
   ],
   "source": [
    "# 範例-日期計算\n",
    "PYCON_DATE = datetime(year=2025, month=5, day=14, hour=8)\n",
    "countdown = PYCON_DATE - datetime.now()\n",
    "type(countdown) # datetime.timedelta\n",
    "countdown\n",
    "countdownDay = countdown.days\n",
    "\n",
    "txt = \"距離 2025年5月14日 USA PyCon 還有 {} 天\"\n",
    "print(txt.format(countdownDay))"
   ]
  },
  {
   "cell_type": "code",
   "execution_count": 306,
   "id": "fbd4a3ca-9000-4885-95e8-f92396ae128f",
   "metadata": {},
   "outputs": [
    {
     "data": {
      "text/plain": [
       "datetime.datetime(2025, 1, 6, 23, 32, 36, 541458, tzinfo=tzlocal())"
      ]
     },
     "execution_count": 306,
     "metadata": {},
     "output_type": "execute_result"
    }
   ],
   "source": [
    "# Time Zones 時區 - 使用 dateutil 模組\n",
    "# https://dateutil.readthedocs.io/en/stable/\n",
    "\n",
    "from dateutil import tz\n",
    "from datetime import datetime\n",
    "\n",
    "now = datetime.now(tz=tz.tzlocal())\n",
    "now"
   ]
  },
  {
   "cell_type": "code",
   "execution_count": 307,
   "id": "1d684519-8c2c-4795-8ab5-ff51be991467",
   "metadata": {},
   "outputs": [
    {
     "name": "stdout",
     "output_type": "stream",
     "text": [
      "2025-01-06 23:32:36.553592\n",
      "2025-01-06 23:32:38.451952\n",
      "0:00:01.898360\n"
     ]
    }
   ],
   "source": [
    "# 範例-計算程式執行時間\n",
    "from datetime import datetime\n",
    "from numpy.random import default_rng\n",
    "\n",
    "# 開始計算時間\n",
    "starttime = datetime.now()\n",
    "print(starttime)\n",
    "\n",
    "# 程式執行\n",
    "rng = default_rng()\n",
    "vals = []\n",
    "x = abs(rng.standard_normal(100000000))\n",
    "x[0:3]\n",
    "vals = x**0.5\n",
    "vals[0:3]\n",
    "\n",
    "# 結束時間\n",
    "endtime = datetime.now()\n",
    "print(endtime)\n",
    "\n",
    "# 程式執行時間\n",
    "print(endtime - starttime)"
   ]
  },
  {
   "cell_type": "code",
   "execution_count": 308,
   "id": "d48afd7e-ce37-4492-9eb6-009896bba544",
   "metadata": {},
   "outputs": [],
   "source": [
    "# 實作練習\n",
    "# 檔案日期時間處理\n",
    "# https://www.kaggle.com/shawon10/web-log-dataset\n",
    "# 檔案名稱: weblog.csv\n",
    "# 欄位個數:4\n",
    "# 資料筆數:16007\n",
    "# IP\tTime\tURL\tStaus\n",
    "# 10.128.2.1\t[29/Nov/2017:06:58:55\tGET /login.php HTTP/1.1\t200\n",
    "# 10.128.2.1\t[29/Nov/2017:06:59:02\tPOST /process.php HTTP/1.1\t302\n",
    "# 10.128.2.1\t[29/Nov/2017:06:59:03\tGET /home.php HTTP/1.1\t200\n",
    "\n",
    "# 下載 https://github.com/rwepa/DataDemo/blob/master/weblog.csv\n",
    "\n",
    "# 練習使用 open, read, datetime, re 等處理技術(不可使用 pandas),計算下列3個時段的資料筆數\n",
    "# 06:00-14:00, 14:00-22:00, 22:00-06:00"
   ]
  },
  {
   "cell_type": "code",
   "execution_count": 309,
   "id": "97cebab2-676c-4094-bb34-945ea66c2e2a",
   "metadata": {},
   "outputs": [],
   "source": [
    "# end"
   ]
  }
 ],
 "metadata": {
  "kernelspec": {
   "display_name": "Python 3 (ipykernel)",
   "language": "python",
   "name": "python3"
  },
  "language_info": {
   "codemirror_mode": {
    "name": "ipython",
    "version": 3
   },
   "file_extension": ".py",
   "mimetype": "text/x-python",
   "name": "python",
   "nbconvert_exporter": "python",
   "pygments_lexer": "ipython3",
   "version": "3.12.7"
  }
 },
 "nbformat": 4,
 "nbformat_minor": 5
}
